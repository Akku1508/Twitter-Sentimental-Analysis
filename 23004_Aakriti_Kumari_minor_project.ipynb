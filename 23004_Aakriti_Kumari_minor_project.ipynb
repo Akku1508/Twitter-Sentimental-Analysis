{
  "nbformat": 4,
  "nbformat_minor": 0,
  "metadata": {
    "colab": {
      "provenance": [],
      "authorship_tag": "ABX9TyO7vcLs/B+Z0LY3JV4AFap/",
      "include_colab_link": true
    },
    "kernelspec": {
      "name": "python3",
      "display_name": "Python 3"
    },
    "language_info": {
      "name": "python"
    }
  },
  "cells": [
    {
      "cell_type": "markdown",
      "metadata": {
        "id": "view-in-github",
        "colab_type": "text"
      },
      "source": [
        "<a href=\"https://colab.research.google.com/github/Akku1508/Twitter-Sentimental-Analysis/blob/main/23004_Aakriti_Kumari_minor_project.ipynb\" target=\"_parent\"><img src=\"https://colab.research.google.com/assets/colab-badge.svg\" alt=\"Open In Colab\"/></a>"
      ]
    },
    {
      "cell_type": "markdown",
      "source": [
        "# **MINOR PROJECT**\n",
        "\n",
        "---\n",
        "\n",
        "\n",
        "\n",
        "\n"
      ],
      "metadata": {
        "id": "3j27_cT6kBA6"
      }
    },
    {
      "cell_type": "markdown",
      "source": [
        "# **TASK 1** - Exploratory Data Analysis"
      ],
      "metadata": {
        "id": "0cMtLrokuof_"
      }
    },
    {
      "cell_type": "code",
      "execution_count": null,
      "metadata": {
        "id": "7WR6J-jDD_dI",
        "colab": {
          "base_uri": "https://localhost:8080/"
        },
        "outputId": "7eb0b4d1-a446-4d86-dc41-74c4ad14c4ca"
      },
      "outputs": [
        {
          "output_type": "stream",
          "name": "stdout",
          "text": [
            "Warning: Your Kaggle API key is readable by other users on this system! To fix this, you can run 'chmod 600 /content/kaggle.json'\n",
            "401 - Unauthorized\n"
          ]
        }
      ],
      "source": [
        
        "import matplotlib.pyplot as plt\n",
        "import re\n",
        "import numpy as np\n",
        "import os\n",
        "from collections import Counter\n",
        "import logging\n",
        "import time\n",
        "import pickle\n",
        "import itertools\n",
        "import seaborn as sns\n",
        "os.environ['KAGGLE_CONFIG_DIR']='/content'\n",
        "!kaggle datasets download -d kazanova/sentiment140kaggle datasets download -d awsaf49/cbis-ddsm-breast-cancer-image-dataset"
      ]
    },
    {
      "cell_type": "code",
      "source": [
        "!pip install sklearn"
      ],
      "metadata": {
        "colab": {
          "base_uri": "https://localhost:8080/"
        },
        "id": "ioO6DyFP2wFw",
        "outputId": "c83b51a6-19a8-40e6-c5a2-f9c29865f0e9"
      },
      "execution_count": null,
      "outputs": [
        {
          "output_type": "stream",
          "name": "stdout",
          "text": [
            "Collecting sklearn\n",
            "  Downloading sklearn-0.0.post5.tar.gz (3.7 kB)\n",
            "  Preparing metadata (setup.py) ... \u001b[?25l\u001b[?25hdone\n",
            "Building wheels for collected packages: sklearn\n",
            "  Building wheel for sklearn (setup.py) ... \u001b[?25l\u001b[?25hdone\n",
            "  Created wheel for sklearn: filename=sklearn-0.0.post5-py3-none-any.whl size=2950 sha256=689192741e7e9bab8e81b90b463cb1cfef17ff9ccb7615d2dc401e190d4d0b44\n",
            "  Stored in directory: /root/.cache/pip/wheels/38/1f/8d/4f812c590e074c1e928f5cec67bf5053b71f38e2648739403a\n",
            "Successfully built sklearn\n",
            "Installing collected packages: sklearn\n",
            "Successfully installed sklearn-0.0.post5\n"
          ]
        }
      ]
    },
    {
      "cell_type": "code",
      "source": [
        "!unzip sentiment140.zip"
      ],
      "metadata": {
        "id": "ixYzifKUGo0g"
      },
      "execution_count": null,
      "outputs": []
    },
    {
      "cell_type": "code",
      "source": [
        "DATASET_COLUMNS = [\"target\", \"ids\", \"date\", \"flag\", \"user\", \"text\"]\n",
        "DATASET_ENCODING = \"ISO-8859-1\"\n"
      ],
      "metadata": {
        "id": "0IFrwSUjP1xU"
      },
      "execution_count": null,
      "outputs": []
    },
    {
      "cell_type": "code",
      "source": [
        "dataframe = pd.read_csv(\"twittersentiments.csv\",encoding =('ISO-8859-1'),names=DATASET_COLUMNS)"
      ],
      "metadata": {
        "id": "nVMT3JrLEyUi"
      },
      "execution_count": null,
      "outputs": []
    },
    {
      "cell_type": "code",
      "source": [
        "print(dataframe)"
      ],
      "metadata": {
        "colab": {
          "base_uri": "https://localhost:8080/"
        },
        "id": "cq6qlCA2EzEs",
        "outputId": "4778b44e-4eab-42fd-f684-5cbdaeb1e5fb"
      },
      "execution_count": null,
      "outputs": [
        {
          "output_type": "stream",
          "name": "stdout",
          "text": [
            "         target         ids                          date      flag  \\\n",
            "0             0  1467810369  Mon Apr 06 22:19:45 PDT 2009  NO_QUERY   \n",
            "1             0  1467810672  Mon Apr 06 22:19:49 PDT 2009  NO_QUERY   \n",
            "2             0  1467810917  Mon Apr 06 22:19:53 PDT 2009  NO_QUERY   \n",
            "3             0  1467811184  Mon Apr 06 22:19:57 PDT 2009  NO_QUERY   \n",
            "4             0  1467811193  Mon Apr 06 22:19:57 PDT 2009  NO_QUERY   \n",
            "...         ...         ...                           ...       ...   \n",
            "1599995       4  2193601966  Tue Jun 16 08:40:49 PDT 2009  NO_QUERY   \n",
            "1599996       4  2193601969  Tue Jun 16 08:40:49 PDT 2009  NO_QUERY   \n",
            "1599997       4  2193601991  Tue Jun 16 08:40:49 PDT 2009  NO_QUERY   \n",
            "1599998       4  2193602064  Tue Jun 16 08:40:49 PDT 2009  NO_QUERY   \n",
            "1599999       4  2193602129  Tue Jun 16 08:40:50 PDT 2009  NO_QUERY   \n",
            "\n",
            "                    user                                               text  \n",
            "0        _TheSpecialOne_  @switchfoot http://twitpic.com/2y1zl - Awww, t...  \n",
            "1          scotthamilton  is upset that he can't update his Facebook by ...  \n",
            "2               mattycus  @Kenichan I dived many times for the ball. Man...  \n",
            "3                ElleCTF    my whole body feels itchy and like its on fire   \n",
            "4                 Karoli  @nationwideclass no, it's not behaving at all....  \n",
            "...                  ...                                                ...  \n",
            "1599995  AmandaMarie1028  Just woke up. Having no school is the best fee...  \n",
            "1599996      TheWDBoards  TheWDB.com - Very cool to hear old Walt interv...  \n",
            "1599997           bpbabe  Are you ready for your MoJo Makeover? Ask me f...  \n",
            "1599998     tinydiamondz  Happy 38th Birthday to my boo of alll time!!! ...  \n",
            "1599999   RyanTrevMorris  happy #charitytuesday @theNSPCC @SparksCharity...  \n",
            "\n",
            "[1600000 rows x 6 columns]\n"
          ]
        }
      ]
    },
    {
      "cell_type": "code",
      "source": [
        "dataframe.shape"
      ],
      "metadata": {
        "colab": {
          "base_uri": "https://localhost:8080/"
        },
        "id": "To2-pjZyTdJF",
        "outputId": "9854af0a-49b9-49ac-827c-0d7b3045c55c"
      },
      "execution_count": null,
      "outputs": [
        {
          "output_type": "execute_result",
          "data": {
            "text/plain": [
              "(1600000, 6)"
            ]
          },
          "metadata": {},
          "execution_count": 9
        }
      ]
    },
    {
      "cell_type": "code",
      "source": [
        "print(\"Dataset size:\", len(dataframe))\n"
      ],
      "metadata": {
        "colab": {
          "base_uri": "https://localhost:8080/"
        },
        "id": "HlCSSjAKTwog",
        "outputId": "80084090-c905-4116-d5de-3423a345e744"
      },
      "execution_count": null,
      "outputs": [
        {
          "output_type": "stream",
          "name": "stdout",
          "text": [
            "Dataset size: 1600000\n"
          ]
        }
      ]
    },
    {
      "cell_type": "code",
      "source": [
        "dataframe.head(10)"
      ],
      "metadata": {
        "colab": {
          "base_uri": "https://localhost:8080/",
          "height": 580
        },
        "id": "h3D1Vo9mT6Fn",
        "outputId": "6a346488-ee19-4545-b41e-cf5290af1b1d"
      },
      "execution_count": null,
      "outputs": [
        {
          "output_type": "execute_result",
          "data": {
            "text/plain": [
              "   target         ids                          date      flag  \\\n",
              "0       0  1467810369  Mon Apr 06 22:19:45 PDT 2009  NO_QUERY   \n",
              "1       0  1467810672  Mon Apr 06 22:19:49 PDT 2009  NO_QUERY   \n",
              "2       0  1467810917  Mon Apr 06 22:19:53 PDT 2009  NO_QUERY   \n",
              "3       0  1467811184  Mon Apr 06 22:19:57 PDT 2009  NO_QUERY   \n",
              "4       0  1467811193  Mon Apr 06 22:19:57 PDT 2009  NO_QUERY   \n",
              "5       0  1467811372  Mon Apr 06 22:20:00 PDT 2009  NO_QUERY   \n",
              "6       0  1467811592  Mon Apr 06 22:20:03 PDT 2009  NO_QUERY   \n",
              "7       0  1467811594  Mon Apr 06 22:20:03 PDT 2009  NO_QUERY   \n",
              "8       0  1467811795  Mon Apr 06 22:20:05 PDT 2009  NO_QUERY   \n",
              "9       0  1467812025  Mon Apr 06 22:20:09 PDT 2009  NO_QUERY   \n",
              "\n",
              "              user                                               text  \n",
              "0  _TheSpecialOne_  @switchfoot http://twitpic.com/2y1zl - Awww, t...  \n",
              "1    scotthamilton  is upset that he can't update his Facebook by ...  \n",
              "2         mattycus  @Kenichan I dived many times for the ball. Man...  \n",
              "3          ElleCTF    my whole body feels itchy and like its on fire   \n",
              "4           Karoli  @nationwideclass no, it's not behaving at all....  \n",
              "5         joy_wolf                      @Kwesidei not the whole crew   \n",
              "6          mybirch                                        Need a hug   \n",
              "7             coZZ  @LOLTrish hey  long time no see! Yes.. Rains a...  \n",
              "8  2Hood4Hollywood               @Tatiana_K nope they didn't have it   \n",
              "9          mimismo                          @twittera que me muera ?   "
            ],
            "text/html": [
              "\n",
              "  <div id=\"df-c14058e8-4e8d-4732-8b31-9d8d6017b412\">\n",
              "    <div class=\"colab-df-container\">\n",
              "      <div>\n",
              "<style scoped>\n",
              "    .dataframe tbody tr th:only-of-type {\n",
              "        vertical-align: middle;\n",
              "    }\n",
              "\n",
              "    .dataframe tbody tr th {\n",
              "        vertical-align: top;\n",
              "    }\n",
              "\n",
              "    .dataframe thead th {\n",
              "        text-align: right;\n",
              "    }\n",
              "</style>\n",
              "<table border=\"1\" class=\"dataframe\">\n",
              "  <thead>\n",
              "    <tr style=\"text-align: right;\">\n",
              "      <th></th>\n",
              "      <th>target</th>\n",
              "      <th>ids</th>\n",
              "      <th>date</th>\n",
              "      <th>flag</th>\n",
              "      <th>user</th>\n",
              "      <th>text</th>\n",
              "    </tr>\n",
              "  </thead>\n",
              "  <tbody>\n",
              "    <tr>\n",
              "      <th>0</th>\n",
              "      <td>0</td>\n",
              "      <td>1467810369</td>\n",
              "      <td>Mon Apr 06 22:19:45 PDT 2009</td>\n",
              "      <td>NO_QUERY</td>\n",
              "      <td>_TheSpecialOne_</td>\n",
              "      <td>@switchfoot http://twitpic.com/2y1zl - Awww, t...</td>\n",
              "    </tr>\n",
              "    <tr>\n",
              "      <th>1</th>\n",
              "      <td>0</td>\n",
              "      <td>1467810672</td>\n",
              "      <td>Mon Apr 06 22:19:49 PDT 2009</td>\n",
              "      <td>NO_QUERY</td>\n",
              "      <td>scotthamilton</td>\n",
              "      <td>is upset that he can't update his Facebook by ...</td>\n",
              "    </tr>\n",
              "    <tr>\n",
              "      <th>2</th>\n",
              "      <td>0</td>\n",
              "      <td>1467810917</td>\n",
              "      <td>Mon Apr 06 22:19:53 PDT 2009</td>\n",
              "      <td>NO_QUERY</td>\n",
              "      <td>mattycus</td>\n",
              "      <td>@Kenichan I dived many times for the ball. Man...</td>\n",
              "    </tr>\n",
              "    <tr>\n",
              "      <th>3</th>\n",
              "      <td>0</td>\n",
              "      <td>1467811184</td>\n",
              "      <td>Mon Apr 06 22:19:57 PDT 2009</td>\n",
              "      <td>NO_QUERY</td>\n",
              "      <td>ElleCTF</td>\n",
              "      <td>my whole body feels itchy and like its on fire</td>\n",
              "    </tr>\n",
              "    <tr>\n",
              "      <th>4</th>\n",
              "      <td>0</td>\n",
              "      <td>1467811193</td>\n",
              "      <td>Mon Apr 06 22:19:57 PDT 2009</td>\n",
              "      <td>NO_QUERY</td>\n",
              "      <td>Karoli</td>\n",
              "      <td>@nationwideclass no, it's not behaving at all....</td>\n",
              "    </tr>\n",
              "    <tr>\n",
              "      <th>5</th>\n",
              "      <td>0</td>\n",
              "      <td>1467811372</td>\n",
              "      <td>Mon Apr 06 22:20:00 PDT 2009</td>\n",
              "      <td>NO_QUERY</td>\n",
              "      <td>joy_wolf</td>\n",
              "      <td>@Kwesidei not the whole crew</td>\n",
              "    </tr>\n",
              "    <tr>\n",
              "      <th>6</th>\n",
              "      <td>0</td>\n",
              "      <td>1467811592</td>\n",
              "      <td>Mon Apr 06 22:20:03 PDT 2009</td>\n",
              "      <td>NO_QUERY</td>\n",
              "      <td>mybirch</td>\n",
              "      <td>Need a hug</td>\n",
              "    </tr>\n",
              "    <tr>\n",
              "      <th>7</th>\n",
              "      <td>0</td>\n",
              "      <td>1467811594</td>\n",
              "      <td>Mon Apr 06 22:20:03 PDT 2009</td>\n",
              "      <td>NO_QUERY</td>\n",
              "      <td>coZZ</td>\n",
              "      <td>@LOLTrish hey  long time no see! Yes.. Rains a...</td>\n",
              "    </tr>\n",
              "    <tr>\n",
              "      <th>8</th>\n",
              "      <td>0</td>\n",
              "      <td>1467811795</td>\n",
              "      <td>Mon Apr 06 22:20:05 PDT 2009</td>\n",
              "      <td>NO_QUERY</td>\n",
              "      <td>2Hood4Hollywood</td>\n",
              "      <td>@Tatiana_K nope they didn't have it</td>\n",
              "    </tr>\n",
              "    <tr>\n",
              "      <th>9</th>\n",
              "      <td>0</td>\n",
              "      <td>1467812025</td>\n",
              "      <td>Mon Apr 06 22:20:09 PDT 2009</td>\n",
              "      <td>NO_QUERY</td>\n",
              "      <td>mimismo</td>\n",
              "      <td>@twittera que me muera ?</td>\n",
              "    </tr>\n",
              "  </tbody>\n",
              "</table>\n",
              "</div>\n",
              "      <button class=\"colab-df-convert\" onclick=\"convertToInteractive('df-c14058e8-4e8d-4732-8b31-9d8d6017b412')\"\n",
              "              title=\"Convert this dataframe to an interactive table.\"\n",
              "              style=\"display:none;\">\n",
              "        \n",
              "  <svg xmlns=\"http://www.w3.org/2000/svg\" height=\"24px\"viewBox=\"0 0 24 24\"\n",
              "       width=\"24px\">\n",
              "    <path d=\"M0 0h24v24H0V0z\" fill=\"none\"/>\n",
              "    <path d=\"M18.56 5.44l.94 2.06.94-2.06 2.06-.94-2.06-.94-.94-2.06-.94 2.06-2.06.94zm-11 1L8.5 8.5l.94-2.06 2.06-.94-2.06-.94L8.5 2.5l-.94 2.06-2.06.94zm10 10l.94 2.06.94-2.06 2.06-.94-2.06-.94-.94-2.06-.94 2.06-2.06.94z\"/><path d=\"M17.41 7.96l-1.37-1.37c-.4-.4-.92-.59-1.43-.59-.52 0-1.04.2-1.43.59L10.3 9.45l-7.72 7.72c-.78.78-.78 2.05 0 2.83L4 21.41c.39.39.9.59 1.41.59.51 0 1.02-.2 1.41-.59l7.78-7.78 2.81-2.81c.8-.78.8-2.07 0-2.86zM5.41 20L4 18.59l7.72-7.72 1.47 1.35L5.41 20z\"/>\n",
              "  </svg>\n",
              "      </button>\n",
              "      \n",
              "  <style>\n",
              "    .colab-df-container {\n",
              "      display:flex;\n",
              "      flex-wrap:wrap;\n",
              "      gap: 12px;\n",
              "    }\n",
              "\n",
              "    .colab-df-convert {\n",
              "      background-color: #E8F0FE;\n",
              "      border: none;\n",
              "      border-radius: 50%;\n",
              "      cursor: pointer;\n",
              "      display: none;\n",
              "      fill: #1967D2;\n",
              "      height: 32px;\n",
              "      padding: 0 0 0 0;\n",
              "      width: 32px;\n",
              "    }\n",
              "\n",
              "    .colab-df-convert:hover {\n",
              "      background-color: #E2EBFA;\n",
              "      box-shadow: 0px 1px 2px rgba(60, 64, 67, 0.3), 0px 1px 3px 1px rgba(60, 64, 67, 0.15);\n",
              "      fill: #174EA6;\n",
              "    }\n",
              "\n",
              "    [theme=dark] .colab-df-convert {\n",
              "      background-color: #3B4455;\n",
              "      fill: #D2E3FC;\n",
              "    }\n",
              "\n",
              "    [theme=dark] .colab-df-convert:hover {\n",
              "      background-color: #434B5C;\n",
              "      box-shadow: 0px 1px 3px 1px rgba(0, 0, 0, 0.15);\n",
              "      filter: drop-shadow(0px 1px 2px rgba(0, 0, 0, 0.3));\n",
              "      fill: #FFFFFF;\n",
              "    }\n",
              "  </style>\n",
              "\n",
              "      <script>\n",
              "        const buttonEl =\n",
              "          document.querySelector('#df-c14058e8-4e8d-4732-8b31-9d8d6017b412 button.colab-df-convert');\n",
              "        buttonEl.style.display =\n",
              "          google.colab.kernel.accessAllowed ? 'block' : 'none';\n",
              "\n",
              "        async function convertToInteractive(key) {\n",
              "          const element = document.querySelector('#df-c14058e8-4e8d-4732-8b31-9d8d6017b412');\n",
              "          const dataTable =\n",
              "            await google.colab.kernel.invokeFunction('convertToInteractive',\n",
              "                                                     [key], {});\n",
              "          if (!dataTable) return;\n",
              "\n",
              "          const docLinkHtml = 'Like what you see? Visit the ' +\n",
              "            '<a target=\"_blank\" href=https://colab.research.google.com/notebooks/data_table.ipynb>data table notebook</a>'\n",
              "            + ' to learn more about interactive tables.';\n",
              "          element.innerHTML = '';\n",
              "          dataTable['output_type'] = 'display_data';\n",
              "          await google.colab.output.renderOutput(dataTable, element);\n",
              "          const docLink = document.createElement('div');\n",
              "          docLink.innerHTML = docLinkHtml;\n",
              "          element.appendChild(docLink);\n",
              "        }\n",
              "      </script>\n",
              "    </div>\n",
              "  </div>\n",
              "  "
            ]
          },
          "metadata": {},
          "execution_count": 11
        }
      ]
    },
    {
      "cell_type": "code",
      "source": [
        "dataframe.tail(10)"
      ],
      "metadata": {
        "colab": {
          "base_uri": "https://localhost:8080/",
          "height": 580
        },
        "id": "ayjrw9fWT_e7",
        "outputId": "8d945406-6ed6-4685-9d92-37dfe89f8a27"
      },
      "execution_count": null,
      "outputs": [
        {
          "output_type": "execute_result",
          "data": {
            "text/plain": [
              "         target         ids                          date      flag  \\\n",
              "1599990       4  2193579249  Tue Jun 16 08:38:59 PDT 2009  NO_QUERY   \n",
              "1599991       4  2193579284  Tue Jun 16 08:38:59 PDT 2009  NO_QUERY   \n",
              "1599992       4  2193579434  Tue Jun 16 08:39:00 PDT 2009  NO_QUERY   \n",
              "1599993       4  2193579477  Tue Jun 16 08:39:00 PDT 2009  NO_QUERY   \n",
              "1599994       4  2193579489  Tue Jun 16 08:39:00 PDT 2009  NO_QUERY   \n",
              "1599995       4  2193601966  Tue Jun 16 08:40:49 PDT 2009  NO_QUERY   \n",
              "1599996       4  2193601969  Tue Jun 16 08:40:49 PDT 2009  NO_QUERY   \n",
              "1599997       4  2193601991  Tue Jun 16 08:40:49 PDT 2009  NO_QUERY   \n",
              "1599998       4  2193602064  Tue Jun 16 08:40:49 PDT 2009  NO_QUERY   \n",
              "1599999       4  2193602129  Tue Jun 16 08:40:50 PDT 2009  NO_QUERY   \n",
              "\n",
              "                    user                                               text  \n",
              "1599990    razzberry5594                              WOOOOO! Xbox is back   \n",
              "1599991        AgustinaP  @rmedina @LaTati Mmmm  That sounds absolutely ...  \n",
              "1599992    sdancingsteph                  ReCoVeRiNg FrOm ThE lOnG wEeKeNd   \n",
              "1599993      ChloeAmisha                                  @SCOOBY_GRITBOYS   \n",
              "1599994        EvolveTom  @Cliff_Forster Yeah, that does work better tha...  \n",
              "1599995  AmandaMarie1028  Just woke up. Having no school is the best fee...  \n",
              "1599996      TheWDBoards  TheWDB.com - Very cool to hear old Walt interv...  \n",
              "1599997           bpbabe  Are you ready for your MoJo Makeover? Ask me f...  \n",
              "1599998     tinydiamondz  Happy 38th Birthday to my boo of alll time!!! ...  \n",
              "1599999   RyanTrevMorris  happy #charitytuesday @theNSPCC @SparksCharity...  "
            ],
            "text/html": [
              "\n",
              "  <div id=\"df-a483ae83-406b-4a29-9a60-ebdb76246f11\">\n",
              "    <div class=\"colab-df-container\">\n",
              "      <div>\n",
              "<style scoped>\n",
              "    .dataframe tbody tr th:only-of-type {\n",
              "        vertical-align: middle;\n",
              "    }\n",
              "\n",
              "    .dataframe tbody tr th {\n",
              "        vertical-align: top;\n",
              "    }\n",
              "\n",
              "    .dataframe thead th {\n",
              "        text-align: right;\n",
              "    }\n",
              "</style>\n",
              "<table border=\"1\" class=\"dataframe\">\n",
              "  <thead>\n",
              "    <tr style=\"text-align: right;\">\n",
              "      <th></th>\n",
              "      <th>target</th>\n",
              "      <th>ids</th>\n",
              "      <th>date</th>\n",
              "      <th>flag</th>\n",
              "      <th>user</th>\n",
              "      <th>text</th>\n",
              "    </tr>\n",
              "  </thead>\n",
              "  <tbody>\n",
              "    <tr>\n",
              "      <th>1599990</th>\n",
              "      <td>4</td>\n",
              "      <td>2193579249</td>\n",
              "      <td>Tue Jun 16 08:38:59 PDT 2009</td>\n",
              "      <td>NO_QUERY</td>\n",
              "      <td>razzberry5594</td>\n",
              "      <td>WOOOOO! Xbox is back</td>\n",
              "    </tr>\n",
              "    <tr>\n",
              "      <th>1599991</th>\n",
              "      <td>4</td>\n",
              "      <td>2193579284</td>\n",
              "      <td>Tue Jun 16 08:38:59 PDT 2009</td>\n",
              "      <td>NO_QUERY</td>\n",
              "      <td>AgustinaP</td>\n",
              "      <td>@rmedina @LaTati Mmmm  That sounds absolutely ...</td>\n",
              "    </tr>\n",
              "    <tr>\n",
              "      <th>1599992</th>\n",
              "      <td>4</td>\n",
              "      <td>2193579434</td>\n",
              "      <td>Tue Jun 16 08:39:00 PDT 2009</td>\n",
              "      <td>NO_QUERY</td>\n",
              "      <td>sdancingsteph</td>\n",
              "      <td>ReCoVeRiNg FrOm ThE lOnG wEeKeNd</td>\n",
              "    </tr>\n",
              "    <tr>\n",
              "      <th>1599993</th>\n",
              "      <td>4</td>\n",
              "      <td>2193579477</td>\n",
              "      <td>Tue Jun 16 08:39:00 PDT 2009</td>\n",
              "      <td>NO_QUERY</td>\n",
              "      <td>ChloeAmisha</td>\n",
              "      <td>@SCOOBY_GRITBOYS</td>\n",
              "    </tr>\n",
              "    <tr>\n",
              "      <th>1599994</th>\n",
              "      <td>4</td>\n",
              "      <td>2193579489</td>\n",
              "      <td>Tue Jun 16 08:39:00 PDT 2009</td>\n",
              "      <td>NO_QUERY</td>\n",
              "      <td>EvolveTom</td>\n",
              "      <td>@Cliff_Forster Yeah, that does work better tha...</td>\n",
              "    </tr>\n",
              "    <tr>\n",
              "      <th>1599995</th>\n",
              "      <td>4</td>\n",
              "      <td>2193601966</td>\n",
              "      <td>Tue Jun 16 08:40:49 PDT 2009</td>\n",
              "      <td>NO_QUERY</td>\n",
              "      <td>AmandaMarie1028</td>\n",
              "      <td>Just woke up. Having no school is the best fee...</td>\n",
              "    </tr>\n",
              "    <tr>\n",
              "      <th>1599996</th>\n",
              "      <td>4</td>\n",
              "      <td>2193601969</td>\n",
              "      <td>Tue Jun 16 08:40:49 PDT 2009</td>\n",
              "      <td>NO_QUERY</td>\n",
              "      <td>TheWDBoards</td>\n",
              "      <td>TheWDB.com - Very cool to hear old Walt interv...</td>\n",
              "    </tr>\n",
              "    <tr>\n",
              "      <th>1599997</th>\n",
              "      <td>4</td>\n",
              "      <td>2193601991</td>\n",
              "      <td>Tue Jun 16 08:40:49 PDT 2009</td>\n",
              "      <td>NO_QUERY</td>\n",
              "      <td>bpbabe</td>\n",
              "      <td>Are you ready for your MoJo Makeover? Ask me f...</td>\n",
              "    </tr>\n",
              "    <tr>\n",
              "      <th>1599998</th>\n",
              "      <td>4</td>\n",
              "      <td>2193602064</td>\n",
              "      <td>Tue Jun 16 08:40:49 PDT 2009</td>\n",
              "      <td>NO_QUERY</td>\n",
              "      <td>tinydiamondz</td>\n",
              "      <td>Happy 38th Birthday to my boo of alll time!!! ...</td>\n",
              "    </tr>\n",
              "    <tr>\n",
              "      <th>1599999</th>\n",
              "      <td>4</td>\n",
              "      <td>2193602129</td>\n",
              "      <td>Tue Jun 16 08:40:50 PDT 2009</td>\n",
              "      <td>NO_QUERY</td>\n",
              "      <td>RyanTrevMorris</td>\n",
              "      <td>happy #charitytuesday @theNSPCC @SparksCharity...</td>\n",
              "    </tr>\n",
              "  </tbody>\n",
              "</table>\n",
              "</div>\n",
              "      <button class=\"colab-df-convert\" onclick=\"convertToInteractive('df-a483ae83-406b-4a29-9a60-ebdb76246f11')\"\n",
              "              title=\"Convert this dataframe to an interactive table.\"\n",
              "              style=\"display:none;\">\n",
              "        \n",
              "  <svg xmlns=\"http://www.w3.org/2000/svg\" height=\"24px\"viewBox=\"0 0 24 24\"\n",
              "       width=\"24px\">\n",
              "    <path d=\"M0 0h24v24H0V0z\" fill=\"none\"/>\n",
              "    <path d=\"M18.56 5.44l.94 2.06.94-2.06 2.06-.94-2.06-.94-.94-2.06-.94 2.06-2.06.94zm-11 1L8.5 8.5l.94-2.06 2.06-.94-2.06-.94L8.5 2.5l-.94 2.06-2.06.94zm10 10l.94 2.06.94-2.06 2.06-.94-2.06-.94-.94-2.06-.94 2.06-2.06.94z\"/><path d=\"M17.41 7.96l-1.37-1.37c-.4-.4-.92-.59-1.43-.59-.52 0-1.04.2-1.43.59L10.3 9.45l-7.72 7.72c-.78.78-.78 2.05 0 2.83L4 21.41c.39.39.9.59 1.41.59.51 0 1.02-.2 1.41-.59l7.78-7.78 2.81-2.81c.8-.78.8-2.07 0-2.86zM5.41 20L4 18.59l7.72-7.72 1.47 1.35L5.41 20z\"/>\n",
              "  </svg>\n",
              "      </button>\n",
              "      \n",
              "  <style>\n",
              "    .colab-df-container {\n",
              "      display:flex;\n",
              "      flex-wrap:wrap;\n",
              "      gap: 12px;\n",
              "    }\n",
              "\n",
              "    .colab-df-convert {\n",
              "      background-color: #E8F0FE;\n",
              "      border: none;\n",
              "      border-radius: 50%;\n",
              "      cursor: pointer;\n",
              "      display: none;\n",
              "      fill: #1967D2;\n",
              "      height: 32px;\n",
              "      padding: 0 0 0 0;\n",
              "      width: 32px;\n",
              "    }\n",
              "\n",
              "    .colab-df-convert:hover {\n",
              "      background-color: #E2EBFA;\n",
              "      box-shadow: 0px 1px 2px rgba(60, 64, 67, 0.3), 0px 1px 3px 1px rgba(60, 64, 67, 0.15);\n",
              "      fill: #174EA6;\n",
              "    }\n",
              "\n",
              "    [theme=dark] .colab-df-convert {\n",
              "      background-color: #3B4455;\n",
              "      fill: #D2E3FC;\n",
              "    }\n",
              "\n",
              "    [theme=dark] .colab-df-convert:hover {\n",
              "      background-color: #434B5C;\n",
              "      box-shadow: 0px 1px 3px 1px rgba(0, 0, 0, 0.15);\n",
              "      filter: drop-shadow(0px 1px 2px rgba(0, 0, 0, 0.3));\n",
              "      fill: #FFFFFF;\n",
              "    }\n",
              "  </style>\n",
              "\n",
              "      <script>\n",
              "        const buttonEl =\n",
              "          document.querySelector('#df-a483ae83-406b-4a29-9a60-ebdb76246f11 button.colab-df-convert');\n",
              "        buttonEl.style.display =\n",
              "          google.colab.kernel.accessAllowed ? 'block' : 'none';\n",
              "\n",
              "        async function convertToInteractive(key) {\n",
              "          const element = document.querySelector('#df-a483ae83-406b-4a29-9a60-ebdb76246f11');\n",
              "          const dataTable =\n",
              "            await google.colab.kernel.invokeFunction('convertToInteractive',\n",
              "                                                     [key], {});\n",
              "          if (!dataTable) return;\n",
              "\n",
              "          const docLinkHtml = 'Like what you see? Visit the ' +\n",
              "            '<a target=\"_blank\" href=https://colab.research.google.com/notebooks/data_table.ipynb>data table notebook</a>'\n",
              "            + ' to learn more about interactive tables.';\n",
              "          element.innerHTML = '';\n",
              "          dataTable['output_type'] = 'display_data';\n",
              "          await google.colab.output.renderOutput(dataTable, element);\n",
              "          const docLink = document.createElement('div');\n",
              "          docLink.innerHTML = docLinkHtml;\n",
              "          element.appendChild(docLink);\n",
              "        }\n",
              "      </script>\n",
              "    </div>\n",
              "  </div>\n",
              "  "
            ]
          },
          "metadata": {},
          "execution_count": 12
        }
      ]
    },
    {
      "cell_type": "code",
      "source": [
        "sns.pairplot(dataframe)"
      ],
      "metadata": {
        "colab": {
          "base_uri": "https://localhost:8080/",
          "height": 776
        },
        "id": "H1Cc6Sdvsori",
        "outputId": "54550d9b-40b7-470f-d98a-79e733b4b53f"
      },
      "execution_count": null,
      "outputs": [
        {
          "output_type": "execute_result",
          "data": {
            "text/plain": [
              "<seaborn.axisgrid.PairGrid at 0x7f8e33c9c340>"
            ]
          },
          "metadata": {},
          "execution_count": 30
        },
        {
          "output_type": "display_data",
          "data": {
            "text/plain": [
              "<Figure size 750x750 with 12 Axes>"
            ],
            "image/png": "[encoded data removed]"
          },
          "metadata": {}
        }
      ]
    },
    {
      "cell_type": "code",
      "source": [],
      "metadata": {
        "id": "UpCDSmngUeXg"
      },
      "execution_count": null,
      "outputs": []
    },
    {
      "cell_type": "markdown",
      "source": [
        "**1)Are there any missing values and duplicate instances in the dataset? If so, how should we handle them?**\n"
      ],
      "metadata": {
        "id": "cPLeQDCXUXid"
      }
    },
    {
      "cell_type": "code",
      "source": [],
      "metadata": {
        "id": "_dhKxpO2UCXB"
      },
      "execution_count": null,
      "outputs": []
    },
    {
      "cell_type": "code",
      "source": [
        "dataframe.isna().sum()"
      ],
      "metadata": {
        "colab": {
          "base_uri": "https://localhost:8080/"
        },
        "id": "oE9HGT9FUgoQ",
        "outputId": "7ea0936b-4faa-4546-a3b4-6e4f10d9fdeb"
      },
      "execution_count": null,
      "outputs": [
        {
          "output_type": "execute_result",
          "data": {
            "text/plain": [
              "target    0\n",
              "ids       0\n",
              "date      0\n",
              "flag      0\n",
              "user      0\n",
              "text      0\n",
              "dtype: int64"
            ]
          },
          "metadata": {},
          "execution_count": 13
        }
      ]
    },
    {
      "cell_type": "markdown",
      "source": [
        "**This implies that there is no null value in the given dataset twittersentiments**"
      ],
      "metadata": {
        "id": "11UJ_FVAWbYy"
      }
    },
    {
      "cell_type": "code",
      "source": [
        "duplicate = dataframe[dataframe.duplicated()]\n",
        "print(\"Duplicate Rows :\")\n",
        "duplicate\n"
      ],
      "metadata": {
        "colab": {
          "base_uri": "https://localhost:8080/",
          "height": 66
        },
        "id": "URaq_51WVQdU",
        "outputId": "2739fba9-bf3e-43a7-f656-7eab6955cc6b"
      },
      "execution_count": null,
      "outputs": [
        {
          "output_type": "stream",
          "name": "stdout",
          "text": [
            "Duplicate Rows :\n"
          ]
        },
        {
          "output_type": "execute_result",
          "data": {
            "text/plain": [
              "Empty DataFrame\n",
              "Columns: [target, ids, date, flag, user, text]\n",
              "Index: []"
            ],
            "text/html": [
              "\n",
              "  <div id=\"df-c13950d0-9533-4bcb-8bdb-93872b056d09\">\n",
              "    <div class=\"colab-df-container\">\n",
              "      <div>\n",
              "<style scoped>\n",
              "    .dataframe tbody tr th:only-of-type {\n",
              "        vertical-align: middle;\n",
              "    }\n",
              "\n",
              "    .dataframe tbody tr th {\n",
              "        vertical-align: top;\n",
              "    }\n",
              "\n",
              "    .dataframe thead th {\n",
              "        text-align: right;\n",
              "    }\n",
              "</style>\n",
              "<table border=\"1\" class=\"dataframe\">\n",
              "  <thead>\n",
              "    <tr style=\"text-align: right;\">\n",
              "      <th></th>\n",
              "      <th>target</th>\n",
              "      <th>ids</th>\n",
              "      <th>date</th>\n",
              "      <th>flag</th>\n",
              "      <th>user</th>\n",
              "      <th>text</th>\n",
              "    </tr>\n",
              "  </thead>\n",
              "  <tbody>\n",
              "  </tbody>\n",
              "</table>\n",
              "</div>\n",
              "      <button class=\"colab-df-convert\" onclick=\"convertToInteractive('df-c13950d0-9533-4bcb-8bdb-93872b056d09')\"\n",
              "              title=\"Convert this dataframe to an interactive table.\"\n",
              "              style=\"display:none;\">\n",
              "        \n",
              "  <svg xmlns=\"http://www.w3.org/2000/svg\" height=\"24px\"viewBox=\"0 0 24 24\"\n",
              "       width=\"24px\">\n",
              "    <path d=\"M0 0h24v24H0V0z\" fill=\"none\"/>\n",
              "    <path d=\"M18.56 5.44l.94 2.06.94-2.06 2.06-.94-2.06-.94-.94-2.06-.94 2.06-2.06.94zm-11 1L8.5 8.5l.94-2.06 2.06-.94-2.06-.94L8.5 2.5l-.94 2.06-2.06.94zm10 10l.94 2.06.94-2.06 2.06-.94-2.06-.94-.94-2.06-.94 2.06-2.06.94z\"/><path d=\"M17.41 7.96l-1.37-1.37c-.4-.4-.92-.59-1.43-.59-.52 0-1.04.2-1.43.59L10.3 9.45l-7.72 7.72c-.78.78-.78 2.05 0 2.83L4 21.41c.39.39.9.59 1.41.59.51 0 1.02-.2 1.41-.59l7.78-7.78 2.81-2.81c.8-.78.8-2.07 0-2.86zM5.41 20L4 18.59l7.72-7.72 1.47 1.35L5.41 20z\"/>\n",
              "  </svg>\n",
              "      </button>\n",
              "      \n",
              "  <style>\n",
              "    .colab-df-container {\n",
              "      display:flex;\n",
              "      flex-wrap:wrap;\n",
              "      gap: 12px;\n",
              "    }\n",
              "\n",
              "    .colab-df-convert {\n",
              "      background-color: #E8F0FE;\n",
              "      border: none;\n",
              "      border-radius: 50%;\n",
              "      cursor: pointer;\n",
              "      display: none;\n",
              "      fill: #1967D2;\n",
              "      height: 32px;\n",
              "      padding: 0 0 0 0;\n",
              "      width: 32px;\n",
              "    }\n",
              "\n",
              "    .colab-df-convert:hover {\n",
              "      background-color: #E2EBFA;\n",
              "      box-shadow: 0px 1px 2px rgba(60, 64, 67, 0.3), 0px 1px 3px 1px rgba(60, 64, 67, 0.15);\n",
              "      fill: #174EA6;\n",
              "    }\n",
              "\n",
              "    [theme=dark] .colab-df-convert {\n",
              "      background-color: #3B4455;\n",
              "      fill: #D2E3FC;\n",
              "    }\n",
              "\n",
              "    [theme=dark] .colab-df-convert:hover {\n",
              "      background-color: #434B5C;\n",
              "      box-shadow: 0px 1px 3px 1px rgba(0, 0, 0, 0.15);\n",
              "      filter: drop-shadow(0px 1px 2px rgba(0, 0, 0, 0.3));\n",
              "      fill: #FFFFFF;\n",
              "    }\n",
              "  </style>\n",
              "\n",
              "      <script>\n",
              "        const buttonEl =\n",
              "          document.querySelector('#df-c13950d0-9533-4bcb-8bdb-93872b056d09 button.colab-df-convert');\n",
              "        buttonEl.style.display =\n",
              "          google.colab.kernel.accessAllowed ? 'block' : 'none';\n",
              "\n",
              "        async function convertToInteractive(key) {\n",
              "          const element = document.querySelector('#df-c13950d0-9533-4bcb-8bdb-93872b056d09');\n",
              "          const dataTable =\n",
              "            await google.colab.kernel.invokeFunction('convertToInteractive',\n",
              "                                                     [key], {});\n",
              "          if (!dataTable) return;\n",
              "\n",
              "          const docLinkHtml = 'Like what you see? Visit the ' +\n",
              "            '<a target=\"_blank\" href=https://colab.research.google.com/notebooks/data_table.ipynb>data table notebook</a>'\n",
              "            + ' to learn more about interactive tables.';\n",
              "          element.innerHTML = '';\n",
              "          dataTable['output_type'] = 'display_data';\n",
              "          await google.colab.output.renderOutput(dataTable, element);\n",
              "          const docLink = document.createElement('div');\n",
              "          docLink.innerHTML = docLinkHtml;\n",
              "          element.appendChild(docLink);\n",
              "        }\n",
              "      </script>\n",
              "    </div>\n",
              "  </div>\n",
              "  "
            ]
          },
          "metadata": {},
          "execution_count": 14
        }
      ]
    },
    {
      "cell_type": "markdown",
      "source": [
        "**This means there is no duplicate rows in the given dataset**"
      ],
      "metadata": {
        "id": "NvIdsqp7WLUD"
      }
    },
    {
      "cell_type": "code",
      "source": [],
      "metadata": {
        "id": "u_rOwDFrW3_B"
      },
      "execution_count": null,
      "outputs": []
    },
    {
      "cell_type": "markdown",
      "source": [
        "**SUMMARYSING THE ANALYSIS AND OBSERVATIONS**\n",
        "*   If there is NaN values then we can apply three methods\n",
        "\n",
        "\n",
        "    1.Dropping rows (anywhere in row there is nan drop the whole row)#usless technique.\n",
        "\n",
        "    2.Dropping column(entire column):no. of columns is decresed but the rows are same if 90% data of column is missing then drop column..\n",
        "\n",
        "    3.Estimatation (Approximate):Fill with some value if the albhates are there fill with mode(most occuring) value and if there is number fill with avg of columns but estimation could be a wrong assumption also..\n",
        "\n",
        "\n",
        "*   If there is Duplicate instances (rows or entries) present in the dataset then drop the duplicate rows\n",
        "\n"
      ],
      "metadata": {
        "id": "HmmarHY8W0Vx"
      }
    },
    {
      "cell_type": "code",
      "source": [],
      "metadata": {
        "id": "zWzvAhh7ZY7y"
      },
      "execution_count": null,
      "outputs": []
    },
    {
      "cell_type": "markdown",
      "source": [
        "**2) Can we identify any patterns or trends in the tweets based on the date of posting? How does the distribution of sentiment classes (positive, negative, neutral) look like?**"
      ],
      "metadata": {
        "id": "SOqDqaHiZbIl"
      }
    },
    {
      "cell_type": "code",
      "source": [
        "target_cnt = Counter(dataframe.target)\n",
        "print(target_cnt)"
      ],
      "metadata": {
        "colab": {
          "base_uri": "https://localhost:8080/"
        },
        "id": "ukFkfy4waykz",
        "outputId": "3760143b-073c-4fdb-f1ed-e3da3888f6d1"
      },
      "execution_count": null,
      "outputs": [
        {
          "output_type": "stream",
          "name": "stdout",
          "text": [
            "Counter({0: 800000, 4: 800000})\n"
          ]
        }
      ]
    },
    {
      "cell_type": "code",
      "source": [
        "plt.figure(figsize=(10,7))\n",
        "plt.hist(dataframe['date'],bins=100)\n",
        "plt.xlabel(\"DATE OF POSTING\")\n",
        "plt.ylabel(\"NO. OF TWEETS\")\n",
        "plt.show()"
      ],
      "metadata": {
        "colab": {
          "base_uri": "https://localhost:8080/",
          "height": 619
        },
        "id": "VemeVaf2p93c",
        "outputId": "d763bd21-8c5f-4098-d31d-4bf73125faea"
      },
      "execution_count": null,
      "outputs": [
        {
          "output_type": "display_data",
          "data": {
            "text/plain": [
              "<Figure size 1000x700 with 1 Axes>"
            ],
            "image/png": "[encoded data removed]"
          },
          "metadata": {}
        }
      ]
    },
    {
      "cell_type": "code",
      "source": [
        "sent=sns.countplot(x=dataframe['target'])\n",
        "sent.set(xlabel='SENTIMENTS')\n",
        "sent.set(ylabel='NO. OF TWEETS')\n"
      ],
      "metadata": {
        "colab": {
          "base_uri": "https://localhost:8080/",
          "height": 467
        },
        "id": "8SfUvBfzwE1i",
        "outputId": "3af82520-759a-4254-fc81-701b755b1ecb"
      },
      "execution_count": null,
      "outputs": [
        {
          "output_type": "execute_result",
          "data": {
            "text/plain": [
              "[Text(0, 0.5, 'NO. OF TWEETS')]"
            ]
          },
          "metadata": {},
          "execution_count": 137
        },
        {
          "output_type": "display_data",
          "data": {
            "text/plain": [
              "<Figure size 640x480 with 1 Axes>"
            ],
            "image/png": "[encoded data removed]"
          },
          "metadata": {}
        }
      ]
    },
    {
      "cell_type": "code",
      "source": [
        "plt.figure(figsize=(8, 6))\n",
        "SNS=sns.histplot(x=dataframe['date'],hue=dataframe['target'],palette=\"Set1\")\n",
        "SNS.set(title='TRENDS IN THE TWEETS BASED ON THE DATE OF POSTING')\n",
        "SNS.set(xlabel='DATE OF POSTING')\n",
        "SNS.set(ylabel='NO. OF TWEETS')\n",
        "plt.show()"
      ],
      "metadata": {
        "colab": {
          "base_uri": "https://localhost:8080/",
          "height": 564
        },
        "id": "t6Xqxvkyrp7v",
        "outputId": "9eaec0ba-95ef-4a73-caf2-46f11cf29284"
      },
      "execution_count": null,
      "outputs": [
        {
          "output_type": "display_data",
          "data": {
            "text/plain": [
              "<Figure size 800x600 with 1 Axes>"
            ],
            "image/png": "[encoded data removed]"
          },
          "metadata": {}
        }
      ]
    },
    {
      "cell_type": "code",
      "source": [],
      "metadata": {
        "id": "PzJsMJI9xGZ1"
      },
      "execution_count": null,
      "outputs": []
    },
    {
      "cell_type": "markdown",
      "source": [
        " **SUMMARYSING THE ANALYSIS AND OBSERVATIONS**\n",
        "\n",
        "    From the above graph following observations could be made:-\n",
        "\n",
        "    1) In the given dataset positive tweets were always in large no than Negative one on every date of posting till 15 June 2009.\n",
        "    2) After 15 June 2009 there are enormous negative tweets had been posted.\n",
        "    3) Around 1 June 2009 the usage of twitter reapidly increased as large no. of tweets were posted.\n",
        "     \n",
        "\n",
        "\n"
      ],
      "metadata": {
        "id": "zhsc5Rx8lc4i"
      }
    },
    {
      "cell_type": "code",
      "source": [],
      "metadata": {
        "id": "7a90ssv5m5k3"
      },
      "execution_count": null,
      "outputs": []
    },
    {
      "cell_type": "markdown",
      "source": [
        "**3)Can we identify any relationships between the length of tweets and their corresponding sentiment? Provide correlation plot.**"
      ],
      "metadata": {
        "id": "5ecNPXe8axq_"
      }
    },
    {
      "cell_type": "code",
      "source": [],
      "metadata": {
        "id": "8H4V-kCFm9bq"
      },
      "execution_count": null,
      "outputs": []
    },
    {
      "cell_type": "code",
      "source": [
        "dataframe['Tweet Length']=dataframe['text'].astype(str).apply(len)"
      ],
      "metadata": {
        "id": "RvruG7s8WuvL"
      },
      "execution_count": null,
      "outputs": []
    },
    {
      "cell_type": "code",
      "source": [
        "correlation_matrix = dataframe.corr()\n",
        "correlation_matrix\n",
        "\n"
      ],
      "metadata": {
        "colab": {
          "base_uri": "https://localhost:8080/",
          "height": 199
        },
        "id": "E7gEnhijMENV",
        "outputId": "62fee2e8-ec87-446a-c3d0-3cbc1f704cb9"
      },
      "execution_count": null,
      "outputs": [
        {
          "output_type": "stream",
          "name": "stderr",
          "text": [
            "<ipython-input-17-3688ba69ecfa>:1: FutureWarning: The default value of numeric_only in DataFrame.corr is deprecated. In a future version, it will default to False. Select only valid columns or specify the value of numeric_only to silence this warning.\n",
            "  correlation_matrix = dataframe.corr()\n"
          ]
        },
        {
          "output_type": "execute_result",
          "data": {
            "text/plain": [
              "                target       ids  Tweet Length\n",
              "target        1.000000 -0.261601     -0.005809\n",
              "ids          -0.261601  1.000000      0.002562\n",
              "Tweet Length -0.005809  0.002562      1.000000"
            ],
            "text/html": [
              "\n",
              "  <div id=\"df-9ff9f8ac-edea-49bb-9fbb-aeb26bed748b\">\n",
              "    <div class=\"colab-df-container\">\n",
              "      <div>\n",
              "<style scoped>\n",
              "    .dataframe tbody tr th:only-of-type {\n",
              "        vertical-align: middle;\n",
              "    }\n",
              "\n",
              "    .dataframe tbody tr th {\n",
              "        vertical-align: top;\n",
              "    }\n",
              "\n",
              "    .dataframe thead th {\n",
              "        text-align: right;\n",
              "    }\n",
              "</style>\n",
              "<table border=\"1\" class=\"dataframe\">\n",
              "  <thead>\n",
              "    <tr style=\"text-align: right;\">\n",
              "      <th></th>\n",
              "      <th>target</th>\n",
              "      <th>ids</th>\n",
              "      <th>Tweet Length</th>\n",
              "    </tr>\n",
              "  </thead>\n",
              "  <tbody>\n",
              "    <tr>\n",
              "      <th>target</th>\n",
              "      <td>1.000000</td>\n",
              "      <td>-0.261601</td>\n",
              "      <td>-0.005809</td>\n",
              "    </tr>\n",
              "    <tr>\n",
              "      <th>ids</th>\n",
              "      <td>-0.261601</td>\n",
              "      <td>1.000000</td>\n",
              "      <td>0.002562</td>\n",
              "    </tr>\n",
              "    <tr>\n",
              "      <th>Tweet Length</th>\n",
              "      <td>-0.005809</td>\n",
              "      <td>0.002562</td>\n",
              "      <td>1.000000</td>\n",
              "    </tr>\n",
              "  </tbody>\n",
              "</table>\n",
              "</div>\n",
              "      <button class=\"colab-df-convert\" onclick=\"convertToInteractive('df-9ff9f8ac-edea-49bb-9fbb-aeb26bed748b')\"\n",
              "              title=\"Convert this dataframe to an interactive table.\"\n",
              "              style=\"display:none;\">\n",
              "        \n",
              "  <svg xmlns=\"http://www.w3.org/2000/svg\" height=\"24px\"viewBox=\"0 0 24 24\"\n",
              "       width=\"24px\">\n",
              "    <path d=\"M0 0h24v24H0V0z\" fill=\"none\"/>\n",
              "    <path d=\"M18.56 5.44l.94 2.06.94-2.06 2.06-.94-2.06-.94-.94-2.06-.94 2.06-2.06.94zm-11 1L8.5 8.5l.94-2.06 2.06-.94-2.06-.94L8.5 2.5l-.94 2.06-2.06.94zm10 10l.94 2.06.94-2.06 2.06-.94-2.06-.94-.94-2.06-.94 2.06-2.06.94z\"/><path d=\"M17.41 7.96l-1.37-1.37c-.4-.4-.92-.59-1.43-.59-.52 0-1.04.2-1.43.59L10.3 9.45l-7.72 7.72c-.78.78-.78 2.05 0 2.83L4 21.41c.39.39.9.59 1.41.59.51 0 1.02-.2 1.41-.59l7.78-7.78 2.81-2.81c.8-.78.8-2.07 0-2.86zM5.41 20L4 18.59l7.72-7.72 1.47 1.35L5.41 20z\"/>\n",
              "  </svg>\n",
              "      </button>\n",
              "      \n",
              "  <style>\n",
              "    .colab-df-container {\n",
              "      display:flex;\n",
              "      flex-wrap:wrap;\n",
              "      gap: 12px;\n",
              "    }\n",
              "\n",
              "    .colab-df-convert {\n",
              "      background-color: #E8F0FE;\n",
              "      border: none;\n",
              "      border-radius: 50%;\n",
              "      cursor: pointer;\n",
              "      display: none;\n",
              "      fill: #1967D2;\n",
              "      height: 32px;\n",
              "      padding: 0 0 0 0;\n",
              "      width: 32px;\n",
              "    }\n",
              "\n",
              "    .colab-df-convert:hover {\n",
              "      background-color: #E2EBFA;\n",
              "      box-shadow: 0px 1px 2px rgba(60, 64, 67, 0.3), 0px 1px 3px 1px rgba(60, 64, 67, 0.15);\n",
              "      fill: #174EA6;\n",
              "    }\n",
              "\n",
              "    [theme=dark] .colab-df-convert {\n",
              "      background-color: #3B4455;\n",
              "      fill: #D2E3FC;\n",
              "    }\n",
              "\n",
              "    [theme=dark] .colab-df-convert:hover {\n",
              "      background-color: #434B5C;\n",
              "      box-shadow: 0px 1px 3px 1px rgba(0, 0, 0, 0.15);\n",
              "      filter: drop-shadow(0px 1px 2px rgba(0, 0, 0, 0.3));\n",
              "      fill: #FFFFFF;\n",
              "    }\n",
              "  </style>\n",
              "\n",
              "      <script>\n",
              "        const buttonEl =\n",
              "          document.querySelector('#df-9ff9f8ac-edea-49bb-9fbb-aeb26bed748b button.colab-df-convert');\n",
              "        buttonEl.style.display =\n",
              "          google.colab.kernel.accessAllowed ? 'block' : 'none';\n",
              "\n",
              "        async function convertToInteractive(key) {\n",
              "          const element = document.querySelector('#df-9ff9f8ac-edea-49bb-9fbb-aeb26bed748b');\n",
              "          const dataTable =\n",
              "            await google.colab.kernel.invokeFunction('convertToInteractive',\n",
              "                                                     [key], {});\n",
              "          if (!dataTable) return;\n",
              "\n",
              "          const docLinkHtml = 'Like what you see? Visit the ' +\n",
              "            '<a target=\"_blank\" href=https://colab.research.google.com/notebooks/data_table.ipynb>data table notebook</a>'\n",
              "            + ' to learn more about interactive tables.';\n",
              "          element.innerHTML = '';\n",
              "          dataTable['output_type'] = 'display_data';\n",
              "          await google.colab.output.renderOutput(dataTable, element);\n",
              "          const docLink = document.createElement('div');\n",
              "          docLink.innerHTML = docLinkHtml;\n",
              "          element.appendChild(docLink);\n",
              "        }\n",
              "      </script>\n",
              "    </div>\n",
              "  </div>\n",
              "  "
            ]
          },
          "metadata": {},
          "execution_count": 17
        }
      ]
    },
    {
      "cell_type": "code",
      "source": [
        "correlation = dataframe['Tweet Length'].corr(dataframe['target'])\n",
        "sns.heatmap(dataframe[['Tweet Length', 'target']].corr(), annot=True, cmap='coolwarm')\n",
        "\n",
        "plt.show()\n",
        "\n"
      ],
      "metadata": {
        "colab": {
          "base_uri": "https://localhost:8080/",
          "height": 435
        },
        "id": "IdRPTgNyW7L6",
        "outputId": "2eabcf0e-49d5-4489-dc9d-942733e98d5b"
      },
      "execution_count": null,
      "outputs": [
        {
          "output_type": "display_data",
          "data": {
            "text/plain": [
              "<Figure size 640x480 with 2 Axes>"
            ],
            "image/png": "[encoded data removed]"
          },
          "metadata": {}
        }
      ]
    },
    {
      "cell_type": "code",
      "source": [
        "sns.scatterplot(data=dataframe,x='date')"
      ],
      "metadata": {
        "id": "CSnv_IqE2CVU"
      },
      "execution_count": null,
      "outputs": []
    },
    {
      "cell_type": "markdown",
      "source": [
        "  **SUMMARYSING THE ANALYSIS AND OBSERVATIONS**\n",
        "\n",
        "  \n",
        "    A correlation coefficient of -0.0058 indicates a very weak negative correlation between the two variables. The negative sign indicates that there is an inverse relationship between the variables, but the coefficient value being close to zero suggests that this relationship is extremely weak.\n",
        "\n",
        "    In practical terms, it means that there is little to no linear association or predictable pattern between the two variables. The variables do not move in a consistent direction in relation to each other. As one variable increases, the other variable does not consistently decrease, and vice versa.\n",
        "\n",
        "    In this case of a coefficient like -0.0058, it implies a negligible relationship between the variables and would not typically be considered meaningful for most analyses."
      ],
      "metadata": {
        "id": "S8AOkj5zNMPp"
      }
    },
    {
      "cell_type": "code",
      "source": [],
      "metadata": {
        "id": "Xan37xfsYDoU"
      },
      "execution_count": null,
      "outputs": []
    },
    {
      "cell_type": "markdown",
      "source": [
        "**4) How should we encode the categorical variable for sentiment classes (positive, negative, neutral)? Binary encoding or one-hot encoding? Perform the encoding.**"
      ],
      "metadata": {
        "id": "NWx7rdV7bCwK"
      }
    },
    {
      "cell_type": "code",
      "source": [],
      "metadata": {
        "id": "olBtS0BZJZzm"
      },
      "execution_count": null,
      "outputs": []
    },
    {
      "cell_type": "code",
      "source": [
        "label_mapping = {'negative':0,'positive':4,'neutral':2}\n",
        "dataframe['target'] = dataframe['target'].replace(label_mapping)\n"
      ],
      "metadata": {
        "id": "83Dd1TobieTx"
      },
      "execution_count": null,
      "outputs": []
    },
    {
      "cell_type": "code",
      "source": [
        "encoded_df = pd.get_dummies(dataframe, columns=['target'])\n",
        "print(encoded_df)\n"
      ],
      "metadata": {
        "id": "kl1Qe37nbIRv",
        "colab": {
          "base_uri": "https://localhost:8080/"
        },
        "outputId": "6cdf2dea-6c81-49e2-a2d5-6f2e73850c25"
      },
      "execution_count": null,
      "outputs": [
        {
          "output_type": "stream",
          "name": "stdout",
          "text": [
            "                ids                          date      flag             user  \\\n",
            "0        1467810369  Mon Apr 06 22:19:45 PDT 2009  NO_QUERY  _TheSpecialOne_   \n",
            "1        1467810672  Mon Apr 06 22:19:49 PDT 2009  NO_QUERY    scotthamilton   \n",
            "2        1467810917  Mon Apr 06 22:19:53 PDT 2009  NO_QUERY         mattycus   \n",
            "3        1467811184  Mon Apr 06 22:19:57 PDT 2009  NO_QUERY          ElleCTF   \n",
            "4        1467811193  Mon Apr 06 22:19:57 PDT 2009  NO_QUERY           Karoli   \n",
            "...             ...                           ...       ...              ...   \n",
            "1599995  2193601966  Tue Jun 16 08:40:49 PDT 2009  NO_QUERY  AmandaMarie1028   \n",
            "1599996  2193601969  Tue Jun 16 08:40:49 PDT 2009  NO_QUERY      TheWDBoards   \n",
            "1599997  2193601991  Tue Jun 16 08:40:49 PDT 2009  NO_QUERY           bpbabe   \n",
            "1599998  2193602064  Tue Jun 16 08:40:49 PDT 2009  NO_QUERY     tinydiamondz   \n",
            "1599999  2193602129  Tue Jun 16 08:40:50 PDT 2009  NO_QUERY   RyanTrevMorris   \n",
            "\n",
            "                                                      text  \\\n",
            "0        @switchfoot http://twitpic.com/2y1zl - Awww, t...   \n",
            "1        is upset that he can't update his Facebook by ...   \n",
            "2        @Kenichan I dived many times for the ball. Man...   \n",
            "3          my whole body feels itchy and like its on fire    \n",
            "4        @nationwideclass no, it's not behaving at all....   \n",
            "...                                                    ...   \n",
            "1599995  Just woke up. Having no school is the best fee...   \n",
            "1599996  TheWDB.com - Very cool to hear old Walt interv...   \n",
            "1599997  Are you ready for your MoJo Makeover? Ask me f...   \n",
            "1599998  Happy 38th Birthday to my boo of alll time!!! ...   \n",
            "1599999  happy #charitytuesday @theNSPCC @SparksCharity...   \n",
            "\n",
            "                                              Encoded_Text  Tweet Length  \\\n",
            "0        @switchfoot http://twitpic.com/2y1zl - Awww, t...           115   \n",
            "1        is upset that he can't update his Facebook by ...           111   \n",
            "2        @Kenichan I dived many times for the ball. Man...            89   \n",
            "3          my whole body feels itchy and like its on fire             47   \n",
            "4        @nationwideclass no, it's not behaving at all....           111   \n",
            "...                                                    ...           ...   \n",
            "1599995  Just woke up. Having no school is the best fee...            56   \n",
            "1599996  TheWDB.com - Very cool to hear old Walt interv...            78   \n",
            "1599997  Are you ready for your MoJo Makeover? Ask me f...            57   \n",
            "1599998  Happy 38th Birthday to my boo of alll time!!! ...            65   \n",
            "1599999  happy #charitytuesday @theNSPCC @SparksCharity...            62   \n",
            "\n",
            "         target_0  target_4  \n",
            "0               1         0  \n",
            "1               1         0  \n",
            "2               1         0  \n",
            "3               1         0  \n",
            "4               1         0  \n",
            "...           ...       ...  \n",
            "1599995         0         1  \n",
            "1599996         0         1  \n",
            "1599997         0         1  \n",
            "1599998         0         1  \n",
            "1599999         0         1  \n",
            "\n",
            "[1600000 rows x 9 columns]\n"
          ]
        }
      ]
    },
    {
      "cell_type": "markdown",
      "source": [
        "  **SUMMARYSING THE ANALYSIS AND OBSERVATIONS**\n",
        "  \n",
        "    We ahould use One-hot encoding as One-hot encoding represents each category as a binary feature, where a value of 1 indicates the presence of the category and 0 indicates its absence."
      ],
      "metadata": {
        "id": "TgdyoNNsj65N"
      }
    },
    {
      "cell_type": "code",
      "source": [],
      "metadata": {
        "id": "wzb6rv-YkVaC"
      },
      "execution_count": null,
      "outputs": []
    },
    {
      "cell_type": "markdown",
      "source": [
        "**5) Do we need to remove any special characters, URLs, or mentions from the tweets before analysis? How should we handle emoji or emoticons in the text data? Should we remove or encode them?**"
      ],
      "metadata": {
        "id": "fC5TNPSkbJBr"
      }
    },
    {
      "cell_type": "code",
      "source": [],
      "metadata": {
        "id": "8tcqTrNlJbYY"
      },
      "execution_count": null,
      "outputs": []
    },
    {
      "cell_type": "code",
      "source": [
        "import pandas as pd\n",
        "import emoji\n",
        "def encode_emojis(text):\n",
        "    encoded_text = emoji.demojize(text)\n",
        "    return encoded_text\n",
        "def remove_emojis(text):\n",
        "    removed_text = emoji.get_emoji_regexp().sub('', text)\n",
        "    return removed_text\n",
        "dataframe['Encoded_Text'] = dataframe['text'].apply(encode_emojis)\n",
        "print(dataframe)\n"
      ],
      "metadata": {
        "colab": {
          "base_uri": "https://localhost:8080/"
        },
        "id": "OI7ENtTGFWX4",
        "outputId": "3ed78c2b-ec76-47e1-a72e-b5fb920198a3"
      },
      "execution_count": null,
      "outputs": [
        {
          "output_type": "stream",
          "name": "stdout",
          "text": [
            "         target         ids                          date      flag  \\\n",
            "0             0  1467810369  Mon Apr 06 22:19:45 PDT 2009  NO_QUERY   \n",
            "1             0  1467810672  Mon Apr 06 22:19:49 PDT 2009  NO_QUERY   \n",
            "2             0  1467810917  Mon Apr 06 22:19:53 PDT 2009  NO_QUERY   \n",
            "3             0  1467811184  Mon Apr 06 22:19:57 PDT 2009  NO_QUERY   \n",
            "4             0  1467811193  Mon Apr 06 22:19:57 PDT 2009  NO_QUERY   \n",
            "...         ...         ...                           ...       ...   \n",
            "1599995       4  2193601966  Tue Jun 16 08:40:49 PDT 2009  NO_QUERY   \n",
            "1599996       4  2193601969  Tue Jun 16 08:40:49 PDT 2009  NO_QUERY   \n",
            "1599997       4  2193601991  Tue Jun 16 08:40:49 PDT 2009  NO_QUERY   \n",
            "1599998       4  2193602064  Tue Jun 16 08:40:49 PDT 2009  NO_QUERY   \n",
            "1599999       4  2193602129  Tue Jun 16 08:40:50 PDT 2009  NO_QUERY   \n",
            "\n",
            "                    user                                               text  \\\n",
            "0        _TheSpecialOne_  @switchfoot http://twitpic.com/2y1zl - Awww, t...   \n",
            "1          scotthamilton  is upset that he can't update his Facebook by ...   \n",
            "2               mattycus  @Kenichan I dived many times for the ball. Man...   \n",
            "3                ElleCTF    my whole body feels itchy and like its on fire    \n",
            "4                 Karoli  @nationwideclass no, it's not behaving at all....   \n",
            "...                  ...                                                ...   \n",
            "1599995  AmandaMarie1028  Just woke up. Having no school is the best fee...   \n",
            "1599996      TheWDBoards  TheWDB.com - Very cool to hear old Walt interv...   \n",
            "1599997           bpbabe  Are you ready for your MoJo Makeover? Ask me f...   \n",
            "1599998     tinydiamondz  Happy 38th Birthday to my boo of alll time!!! ...   \n",
            "1599999   RyanTrevMorris  happy #charitytuesday @theNSPCC @SparksCharity...   \n",
            "\n",
            "                                              Encoded_Text  \n",
            "0        @switchfoot http://twitpic.com/2y1zl - Awww, t...  \n",
            "1        is upset that he can't update his Facebook by ...  \n",
            "2        @Kenichan I dived many times for the ball. Man...  \n",
            "3          my whole body feels itchy and like its on fire   \n",
            "4        @nationwideclass no, it's not behaving at all....  \n",
            "...                                                    ...  \n",
            "1599995  Just woke up. Having no school is the best fee...  \n",
            "1599996  TheWDB.com - Very cool to hear old Walt interv...  \n",
            "1599997  Are you ready for your MoJo Makeover? Ask me f...  \n",
            "1599998  Happy 38th Birthday to my boo of alll time!!! ...  \n",
            "1599999  happy #charitytuesday @theNSPCC @SparksCharity...  \n",
            "\n",
            "[1600000 rows x 7 columns]\n"
          ]
        }
      ]
    },
    {
      "cell_type": "code",
      "source": [
        "dataframe.tail(10)"
      ],
      "metadata": {
        "colab": {
          "base_uri": "https://localhost:8080/",
          "height": 597
        },
        "id": "0L0gFms-HcPN",
        "outputId": "98c358e8-0542-4203-cd0b-4506c2e2ae3b"
      },
      "execution_count": null,
      "outputs": [
        {
          "output_type": "execute_result",
          "data": {
            "text/plain": [
              "         target         ids                          date      flag  \\\n",
              "1599990       4  2193579249  Tue Jun 16 08:38:59 PDT 2009  NO_QUERY   \n",
              "1599991       4  2193579284  Tue Jun 16 08:38:59 PDT 2009  NO_QUERY   \n",
              "1599992       4  2193579434  Tue Jun 16 08:39:00 PDT 2009  NO_QUERY   \n",
              "1599993       4  2193579477  Tue Jun 16 08:39:00 PDT 2009  NO_QUERY   \n",
              "1599994       4  2193579489  Tue Jun 16 08:39:00 PDT 2009  NO_QUERY   \n",
              "1599995       4  2193601966  Tue Jun 16 08:40:49 PDT 2009  NO_QUERY   \n",
              "1599996       4  2193601969  Tue Jun 16 08:40:49 PDT 2009  NO_QUERY   \n",
              "1599997       4  2193601991  Tue Jun 16 08:40:49 PDT 2009  NO_QUERY   \n",
              "1599998       4  2193602064  Tue Jun 16 08:40:49 PDT 2009  NO_QUERY   \n",
              "1599999       4  2193602129  Tue Jun 16 08:40:50 PDT 2009  NO_QUERY   \n",
              "\n",
              "                    user                                               text  \\\n",
              "1599990    razzberry5594                              WOOOOO! Xbox is back    \n",
              "1599991        AgustinaP  @rmedina @LaTati Mmmm  That sounds absolutely ...   \n",
              "1599992    sdancingsteph                  ReCoVeRiNg FrOm ThE lOnG wEeKeNd    \n",
              "1599993      ChloeAmisha                                  @SCOOBY_GRITBOYS    \n",
              "1599994        EvolveTom  @Cliff_Forster Yeah, that does work better tha...   \n",
              "1599995  AmandaMarie1028  Just woke up. Having no school is the best fee...   \n",
              "1599996      TheWDBoards  TheWDB.com - Very cool to hear old Walt interv...   \n",
              "1599997           bpbabe  Are you ready for your MoJo Makeover? Ask me f...   \n",
              "1599998     tinydiamondz  Happy 38th Birthday to my boo of alll time!!! ...   \n",
              "1599999   RyanTrevMorris  happy #charitytuesday @theNSPCC @SparksCharity...   \n",
              "\n",
              "                                              Encoded_Text  Tweet Length  \n",
              "1599990                              WOOOOO! Xbox is back             21  \n",
              "1599991  @rmedina @LaTati Mmmm  That sounds absolutely ...           133  \n",
              "1599992                  ReCoVeRiNg FrOm ThE lOnG wEeKeNd             33  \n",
              "1599993                                  @SCOOBY_GRITBOYS             17  \n",
              "1599994  @Cliff_Forster Yeah, that does work better tha...           132  \n",
              "1599995  Just woke up. Having no school is the best fee...            56  \n",
              "1599996  TheWDB.com - Very cool to hear old Walt interv...            78  \n",
              "1599997  Are you ready for your MoJo Makeover? Ask me f...            57  \n",
              "1599998  Happy 38th Birthday to my boo of alll time!!! ...            65  \n",
              "1599999  happy #charitytuesday @theNSPCC @SparksCharity...            62  "
            ],
            "text/html": [
              "\n",
              "  <div id=\"df-33e7d44d-80ec-4a5b-8572-8edfb2237b05\">\n",
              "    <div class=\"colab-df-container\">\n",
              "      <div>\n",
              "<style scoped>\n",
              "    .dataframe tbody tr th:only-of-type {\n",
              "        vertical-align: middle;\n",
              "    }\n",
              "\n",
              "    .dataframe tbody tr th {\n",
              "        vertical-align: top;\n",
              "    }\n",
              "\n",
              "    .dataframe thead th {\n",
              "        text-align: right;\n",
              "    }\n",
              "</style>\n",
              "<table border=\"1\" class=\"dataframe\">\n",
              "  <thead>\n",
              "    <tr style=\"text-align: right;\">\n",
              "      <th></th>\n",
              "      <th>target</th>\n",
              "      <th>ids</th>\n",
              "      <th>date</th>\n",
              "      <th>flag</th>\n",
              "      <th>user</th>\n",
              "      <th>text</th>\n",
              "      <th>Encoded_Text</th>\n",
              "      <th>Tweet Length</th>\n",
              "    </tr>\n",
              "  </thead>\n",
              "  <tbody>\n",
              "    <tr>\n",
              "      <th>1599990</th>\n",
              "      <td>4</td>\n",
              "      <td>2193579249</td>\n",
              "      <td>Tue Jun 16 08:38:59 PDT 2009</td>\n",
              "      <td>NO_QUERY</td>\n",
              "      <td>razzberry5594</td>\n",
              "      <td>WOOOOO! Xbox is back</td>\n",
              "      <td>WOOOOO! Xbox is back</td>\n",
              "      <td>21</td>\n",
              "    </tr>\n",
              "    <tr>\n",
              "      <th>1599991</th>\n",
              "      <td>4</td>\n",
              "      <td>2193579284</td>\n",
              "      <td>Tue Jun 16 08:38:59 PDT 2009</td>\n",
              "      <td>NO_QUERY</td>\n",
              "      <td>AgustinaP</td>\n",
              "      <td>@rmedina @LaTati Mmmm  That sounds absolutely ...</td>\n",
              "      <td>@rmedina @LaTati Mmmm  That sounds absolutely ...</td>\n",
              "      <td>133</td>\n",
              "    </tr>\n",
              "    <tr>\n",
              "      <th>1599992</th>\n",
              "      <td>4</td>\n",
              "      <td>2193579434</td>\n",
              "      <td>Tue Jun 16 08:39:00 PDT 2009</td>\n",
              "      <td>NO_QUERY</td>\n",
              "      <td>sdancingsteph</td>\n",
              "      <td>ReCoVeRiNg FrOm ThE lOnG wEeKeNd</td>\n",
              "      <td>ReCoVeRiNg FrOm ThE lOnG wEeKeNd</td>\n",
              "      <td>33</td>\n",
              "    </tr>\n",
              "    <tr>\n",
              "      <th>1599993</th>\n",
              "      <td>4</td>\n",
              "      <td>2193579477</td>\n",
              "      <td>Tue Jun 16 08:39:00 PDT 2009</td>\n",
              "      <td>NO_QUERY</td>\n",
              "      <td>ChloeAmisha</td>\n",
              "      <td>@SCOOBY_GRITBOYS</td>\n",
              "      <td>@SCOOBY_GRITBOYS</td>\n",
              "      <td>17</td>\n",
              "    </tr>\n",
              "    <tr>\n",
              "      <th>1599994</th>\n",
              "      <td>4</td>\n",
              "      <td>2193579489</td>\n",
              "      <td>Tue Jun 16 08:39:00 PDT 2009</td>\n",
              "      <td>NO_QUERY</td>\n",
              "      <td>EvolveTom</td>\n",
              "      <td>@Cliff_Forster Yeah, that does work better tha...</td>\n",
              "      <td>@Cliff_Forster Yeah, that does work better tha...</td>\n",
              "      <td>132</td>\n",
              "    </tr>\n",
              "    <tr>\n",
              "      <th>1599995</th>\n",
              "      <td>4</td>\n",
              "      <td>2193601966</td>\n",
              "      <td>Tue Jun 16 08:40:49 PDT 2009</td>\n",
              "      <td>NO_QUERY</td>\n",
              "      <td>AmandaMarie1028</td>\n",
              "      <td>Just woke up. Having no school is the best fee...</td>\n",
              "      <td>Just woke up. Having no school is the best fee...</td>\n",
              "      <td>56</td>\n",
              "    </tr>\n",
              "    <tr>\n",
              "      <th>1599996</th>\n",
              "      <td>4</td>\n",
              "      <td>2193601969</td>\n",
              "      <td>Tue Jun 16 08:40:49 PDT 2009</td>\n",
              "      <td>NO_QUERY</td>\n",
              "      <td>TheWDBoards</td>\n",
              "      <td>TheWDB.com - Very cool to hear old Walt interv...</td>\n",
              "      <td>TheWDB.com - Very cool to hear old Walt interv...</td>\n",
              "      <td>78</td>\n",
              "    </tr>\n",
              "    <tr>\n",
              "      <th>1599997</th>\n",
              "      <td>4</td>\n",
              "      <td>2193601991</td>\n",
              "      <td>Tue Jun 16 08:40:49 PDT 2009</td>\n",
              "      <td>NO_QUERY</td>\n",
              "      <td>bpbabe</td>\n",
              "      <td>Are you ready for your MoJo Makeover? Ask me f...</td>\n",
              "      <td>Are you ready for your MoJo Makeover? Ask me f...</td>\n",
              "      <td>57</td>\n",
              "    </tr>\n",
              "    <tr>\n",
              "      <th>1599998</th>\n",
              "      <td>4</td>\n",
              "      <td>2193602064</td>\n",
              "      <td>Tue Jun 16 08:40:49 PDT 2009</td>\n",
              "      <td>NO_QUERY</td>\n",
              "      <td>tinydiamondz</td>\n",
              "      <td>Happy 38th Birthday to my boo of alll time!!! ...</td>\n",
              "      <td>Happy 38th Birthday to my boo of alll time!!! ...</td>\n",
              "      <td>65</td>\n",
              "    </tr>\n",
              "    <tr>\n",
              "      <th>1599999</th>\n",
              "      <td>4</td>\n",
              "      <td>2193602129</td>\n",
              "      <td>Tue Jun 16 08:40:50 PDT 2009</td>\n",
              "      <td>NO_QUERY</td>\n",
              "      <td>RyanTrevMorris</td>\n",
              "      <td>happy #charitytuesday @theNSPCC @SparksCharity...</td>\n",
              "      <td>happy #charitytuesday @theNSPCC @SparksCharity...</td>\n",
              "      <td>62</td>\n",
              "    </tr>\n",
              "  </tbody>\n",
              "</table>\n",
              "</div>\n",
              "      <button class=\"colab-df-convert\" onclick=\"convertToInteractive('df-33e7d44d-80ec-4a5b-8572-8edfb2237b05')\"\n",
              "              title=\"Convert this dataframe to an interactive table.\"\n",
              "              style=\"display:none;\">\n",
              "        \n",
              "  <svg xmlns=\"http://www.w3.org/2000/svg\" height=\"24px\"viewBox=\"0 0 24 24\"\n",
              "       width=\"24px\">\n",
              "    <path d=\"M0 0h24v24H0V0z\" fill=\"none\"/>\n",
              "    <path d=\"M18.56 5.44l.94 2.06.94-2.06 2.06-.94-2.06-.94-.94-2.06-.94 2.06-2.06.94zm-11 1L8.5 8.5l.94-2.06 2.06-.94-2.06-.94L8.5 2.5l-.94 2.06-2.06.94zm10 10l.94 2.06.94-2.06 2.06-.94-2.06-.94-.94-2.06-.94 2.06-2.06.94z\"/><path d=\"M17.41 7.96l-1.37-1.37c-.4-.4-.92-.59-1.43-.59-.52 0-1.04.2-1.43.59L10.3 9.45l-7.72 7.72c-.78.78-.78 2.05 0 2.83L4 21.41c.39.39.9.59 1.41.59.51 0 1.02-.2 1.41-.59l7.78-7.78 2.81-2.81c.8-.78.8-2.07 0-2.86zM5.41 20L4 18.59l7.72-7.72 1.47 1.35L5.41 20z\"/>\n",
              "  </svg>\n",
              "      </button>\n",
              "      \n",
              "  <style>\n",
              "    .colab-df-container {\n",
              "      display:flex;\n",
              "      flex-wrap:wrap;\n",
              "      gap: 12px;\n",
              "    }\n",
              "\n",
              "    .colab-df-convert {\n",
              "      background-color: #E8F0FE;\n",
              "      border: none;\n",
              "      border-radius: 50%;\n",
              "      cursor: pointer;\n",
              "      display: none;\n",
              "      fill: #1967D2;\n",
              "      height: 32px;\n",
              "      padding: 0 0 0 0;\n",
              "      width: 32px;\n",
              "    }\n",
              "\n",
              "    .colab-df-convert:hover {\n",
              "      background-color: #E2EBFA;\n",
              "      box-shadow: 0px 1px 2px rgba(60, 64, 67, 0.3), 0px 1px 3px 1px rgba(60, 64, 67, 0.15);\n",
              "      fill: #174EA6;\n",
              "    }\n",
              "\n",
              "    [theme=dark] .colab-df-convert {\n",
              "      background-color: #3B4455;\n",
              "      fill: #D2E3FC;\n",
              "    }\n",
              "\n",
              "    [theme=dark] .colab-df-convert:hover {\n",
              "      background-color: #434B5C;\n",
              "      box-shadow: 0px 1px 3px 1px rgba(0, 0, 0, 0.15);\n",
              "      filter: drop-shadow(0px 1px 2px rgba(0, 0, 0, 0.3));\n",
              "      fill: #FFFFFF;\n",
              "    }\n",
              "  </style>\n",
              "\n",
              "      <script>\n",
              "        const buttonEl =\n",
              "          document.querySelector('#df-33e7d44d-80ec-4a5b-8572-8edfb2237b05 button.colab-df-convert');\n",
              "        buttonEl.style.display =\n",
              "          google.colab.kernel.accessAllowed ? 'block' : 'none';\n",
              "\n",
              "        async function convertToInteractive(key) {\n",
              "          const element = document.querySelector('#df-33e7d44d-80ec-4a5b-8572-8edfb2237b05');\n",
              "          const dataTable =\n",
              "            await google.colab.kernel.invokeFunction('convertToInteractive',\n",
              "                                                     [key], {});\n",
              "          if (!dataTable) return;\n",
              "\n",
              "          const docLinkHtml = 'Like what you see? Visit the ' +\n",
              "            '<a target=\"_blank\" href=https://colab.research.google.com/notebooks/data_table.ipynb>data table notebook</a>'\n",
              "            + ' to learn more about interactive tables.';\n",
              "          element.innerHTML = '';\n",
              "          dataTable['output_type'] = 'display_data';\n",
              "          await google.colab.output.renderOutput(dataTable, element);\n",
              "          const docLink = document.createElement('div');\n",
              "          docLink.innerHTML = docLinkHtml;\n",
              "          element.appendChild(docLink);\n",
              "        }\n",
              "      </script>\n",
              "    </div>\n",
              "  </div>\n",
              "  "
            ]
          },
          "metadata": {},
          "execution_count": 62
        }
      ]
    },
    {
      "cell_type": "markdown",
      "source": [
        "  **SUMMARYSING THE ANALYSIS AND OBSERVATIONS**\n",
        "\n",
        "\n",
        "\n",
        "    1)Removing special characters helps simplify the text and focuses on the essential content for sentiment classification.\n",
        "    \n",
        "    2)URLs in tweets often contain website links or shortened URLs, which may not provide meaningful insights for sentiment analysis. Removing URLs eliminates irrelevant information and potential biases introduced by external websites, allowing you to concentrate on the sentiment expressed in the tweet itself.\n",
        "    \n",
        "    3)In sentiment analysis, it is often more effective to focus on the sentiment expressed towards a particular topic or entity rather than individual users. Removing mentions helps generalize the sentiment analysis and avoids bias introduced by specific users.\n",
        "\n",
        "    4)Encoding emojee as Unicode: Emojis are Unicode characters, so we can choose to keep them as Unicode symbols in your text data. This allows  to preserve the visual representation of emojis while analyzing the text."
      ],
      "metadata": {
        "id": "JMp-ojTVEtW7"
      }
    },
    {
      "cell_type": "code",
      "source": [],
      "metadata": {
        "id": "EKZijyBilA3j"
      },
      "execution_count": null,
      "outputs": []
    },
    {
      "cell_type": "markdown",
      "source": [
        "# **TASK 2** - Classification/Regression"
      ],
      "metadata": {
        "id": "Ox8z7yNIwosG"
      }
    },
    {
      "cell_type": "markdown",
      "source": [
        "Perform following steps on the same dataset which you used for EDA.\n",
        "> - Data Preprocessing (as per requirement)\n",
        "> - Feature Engineering\n",
        "> - Split dataset in train-test (80:20 ratio)\n",
        "> - Model selection\n",
        "> - Model training\n",
        "> - Model evaluation\n",
        "> - Fine-tune the Model\n",
        "> - Make predictions\n",
        "\n",
        "\n"
      ],
      "metadata": {
        "id": "HLqVsplfTlDV"
      }
    },
    {
      "cell_type": "markdown",
      "source": [
        "\n",
        "\n",
        "    Data Preprocessing:\n",
        "    1. Clean the text data by removing special characters, punctuation, and converting text to lowercase if necessary.\n",
        "    2. Perform any necessary text normalization techniques like stemming or lemmatization.\n",
        "    3. Handle missing values, if any, by imputing or removing them.\n",
        "\n",
        "    Feature Engineering:\n",
        "    1. Extract relevant features from the text data, such as word count, character count, or other domain-specific features that could be useful for sentiment analysis.\n",
        "    2. Transform or encode categorical variables, if any, using appropriate techniques like one-hot encoding or ordinal encoding.\n",
        "    3. Create additional features based on domain knowledge or data analysis insights.\n",
        "\n",
        "    Split Dataset:\n",
        "    1. Split the dataset into training and testing sets, using an 80:20 ratio or any other suitable ratio based on your specific requirements. This can be done using scikit-learn's `train_test_split` function.\n",
        "\n",
        "    Model Selection:\n",
        "    1. Choose an appropriate machine learning algorithm for sentiment analysis, such as logistic regression, support vector machines, or a text classification algorithm like Naive Bayes or a neural network-based model.\n",
        "\n",
        "    Model Training:\n",
        "    1. Train the selected model using the training dataset. Fit the model to the training data and learn the underlying patterns and relationships.\n",
        "\n",
        "    Model Evaluation:\n",
        "    1. Evaluate the trained model's performance on the testing dataset. Calculate metrics such as accuracy, precision, recall, and F1-score to assess the model's predictive performance.\n",
        "\n",
        "    Fine-tune the Model:\n",
        "    1. Adjust the hyperparameters of the selected model using techniques like cross-validation or grid search to find the best combination of hyperparameters that maximize performance.\n",
        "\n",
        "    Make Predictions:\n",
        "    1. Once the model is fine-tuned and optimized, use it to make predictions on new, unseen data."
      ],
      "metadata": {
        "id": "39beWBmWtN-v"
      }
    },
    {
      "cell_type": "code",
      "source": [
        "from sklearn.feature_extraction.text import CountVectorizer\n",
        "from sklearn.model_selection import train_test_split\n",
        "#from sklearn.preprocessing import StandardScaler\n",
        "from sklearn.linear_model import LogisticRegression\n",
        "#from sklearn.metrics import accuracy_score\n",
        "from sklearn.metrics import confusion_matrix,classification_report\n",
        "from sklearn.preprocessing import LabelEncoder"
      ],
      "metadata": {
        "id": "DeihkGT6vxsE"
      },
      "execution_count": null,
      "outputs": []
    },
    {
      "cell_type": "code",
      "source": [
        "#PREPROCESSING\n",
        "import re\n",
        "d=\",.!?/&-:;@'...\"\n",
        "\"[\"+\"\\\\\".join(d)+\"]\"\n",
        "s=x_train[0]\n",
        "s=' '.join(w for w in re.split(\"[\"+\"\\\\\".join(d)+\"]\",s) if w)\n",
        "\n",
        "for i in s.split():\n",
        "  if len(i)>1: print(i,vectorizer.vocabulary_[i.lower()])"
      ],
      "metadata": {
        "colab": {
          "base_uri": "https://localhost:8080/"
        },
        "id": "4ukCi5xNzjJl",
        "outputId": "5fa5fbb1-e218-4511-ac75-89250f66581f"
      },
      "execution_count": null,
      "outputs": [
        {
          "output_type": "stream",
          "name": "stdout",
          "text": [
            "It 257841\n",
            "was 558260\n",
            "rainy 433424\n",
            "and 57443\n",
            "cloudy 129399\n",
            "in 251981\n",
            "the 517082\n",
            "Windy 565913\n",
            "City 126950\n",
            "today 528707\n",
            "amp 56126\n",
            "WF 561897\n",
            "customers 142868\n",
            "had 226851\n",
            "some 486023\n",
            "serious 467402\n",
            "SAD 455284\n",
            "issues 257700\n",
            "with 566694\n",
            "them 519964\n",
            "when 562752\n",
            "is 256885\n",
            "summer 501487\n",
            "coming 132544\n"
          ]
        }
      ]
    },
    {
      "cell_type": "code",
      "source": [
        "#SPLITING THE DATASET\n",
        "x=dataframe.text.values\n",
        "y=dataframe.target.values\n",
        "x_train,x_test,y_train,y_test=train_test_split(x,y,test_size=0.2,random_state=32)"
      ],
      "metadata": {
        "id": "0Gd3o3_zuKKM"
      },
      "execution_count": null,
      "outputs": []
    },
    {
      "cell_type": "code",
      "source": [
        "#FEATURE ENGINEERING\n",
        "vectorizer= CountVectorizer()\n",
        "vectorizer.fit(x_train)\n",
        "X_train=vectorizer.transform(x_train)\n",
        "X_test=vectorizer.transform(x_test)"
      ],
      "metadata": {
        "id": "CZBPb0c7v7o4"
      },
      "execution_count": null,
      "outputs": []
    },
    {
      "cell_type": "code",
      "source": [
        "print(\"Before vectorising:\\n\",x_train[0],'\\nAfter vectorising:\\n',X_train[0])"
      ],
      "metadata": {
        "colab": {
          "base_uri": "https://localhost:8080/"
        },
        "id": "42Yy6mr5xltr",
        "outputId": "8661fa9b-0f67-4bc5-8d41-363a5318237c"
      },
      "execution_count": null,
      "outputs": [
        {
          "output_type": "stream",
          "name": "stdout",
          "text": [
            "Before vectorising:\n",
            " It was rainy and cloudy in the Windy City today &amp; WF customers had some serious SAD issues! I'm with them, when is summer coming?  \n",
            "After vectorising:\n",
            "   (0, 56126)\t1\n",
            "  (0, 57443)\t1\n",
            "  (0, 126950)\t1\n",
            "  (0, 129399)\t1\n",
            "  (0, 132544)\t1\n",
            "  (0, 142868)\t1\n",
            "  (0, 226851)\t1\n",
            "  (0, 251981)\t1\n",
            "  (0, 256885)\t1\n",
            "  (0, 257700)\t1\n",
            "  (0, 257841)\t1\n",
            "  (0, 433424)\t1\n",
            "  (0, 455284)\t1\n",
            "  (0, 467402)\t1\n",
            "  (0, 486023)\t1\n",
            "  (0, 501487)\t1\n",
            "  (0, 517082)\t1\n",
            "  (0, 519964)\t1\n",
            "  (0, 528707)\t1\n",
            "  (0, 558260)\t1\n",
            "  (0, 561897)\t1\n",
            "  (0, 562752)\t1\n",
            "  (0, 565913)\t1\n",
            "  (0, 566694)\t1\n"
          ]
        }
      ]
    },
    {
      "cell_type": "code",
      "source": [
        "#MODEL SELECTING OR CREATING A MODEL\n",
        "classifier = LogisticRegression(max_iter=1000)\n",
        "\n",
        "#MODEL TRAINING\n",
        "classifier.fit(X_train,y_train)"
      ],
      "metadata": {
        "colab": {
          "base_uri": "https://localhost:8080/",
          "height": 219
        },
        "id": "g5fDqGFd1CEe",
        "outputId": "02850a8c-09c7-4f16-e1ab-26158d51719b"
      },
      "execution_count": null,
      "outputs": [
        {
          "output_type": "stream",
          "name": "stderr",
          "text": [
            "/usr/local/lib/python3.10/dist-packages/sklearn/linear_model/_logistic.py:458: ConvergenceWarning: lbfgs failed to converge (status=1):\n",
            "STOP: TOTAL NO. of ITERATIONS REACHED LIMIT.\n",
            "\n",
            "Increase the number of iterations (max_iter) or scale the data as shown in:\n",
            "    https://scikit-learn.org/stable/modules/preprocessing.html\n",
            "Please also refer to the documentation for alternative solver options:\n",
            "    https://scikit-learn.org/stable/modules/linear_model.html#logistic-regression\n",
            "  n_iter_i = _check_optimize_result(\n"
          ]
        },
        {
          "output_type": "execute_result",
          "data": {
            "text/plain": [
              "LogisticRegression(max_iter=1000)"
            ],
            "text/html": [
              "<style>#sk-container-id-2 {color: black;background-color: white;}#sk-container-id-2 pre{padding: 0;}#sk-container-id-2 div.sk-toggleable {background-color: white;}#sk-container-id-2 label.sk-toggleable__label {cursor: pointer;display: block;width: 100%;margin-bottom: 0;padding: 0.3em;box-sizing: border-box;text-align: center;}#sk-container-id-2 label.sk-toggleable__label-arrow:before {content: \"▸\";float: left;margin-right: 0.25em;color: #696969;}#sk-container-id-2 label.sk-toggleable__label-arrow:hover:before {color: black;}#sk-container-id-2 div.sk-estimator:hover label.sk-toggleable__label-arrow:before {color: black;}#sk-container-id-2 div.sk-toggleable__content {max-height: 0;max-width: 0;overflow: hidden;text-align: left;background-color: #f0f8ff;}#sk-container-id-2 div.sk-toggleable__content pre {margin: 0.2em;color: black;border-radius: 0.25em;background-color: #f0f8ff;}#sk-container-id-2 input.sk-toggleable__control:checked~div.sk-toggleable__content {max-height: 200px;max-width: 100%;overflow: auto;}#sk-container-id-2 input.sk-toggleable__control:checked~label.sk-toggleable__label-arrow:before {content: \"▾\";}#sk-container-id-2 div.sk-estimator input.sk-toggleable__control:checked~label.sk-toggleable__label {background-color: #d4ebff;}#sk-container-id-2 div.sk-label input.sk-toggleable__control:checked~label.sk-toggleable__label {background-color: #d4ebff;}#sk-container-id-2 input.sk-hidden--visually {border: 0;clip: rect(1px 1px 1px 1px);clip: rect(1px, 1px, 1px, 1px);height: 1px;margin: -1px;overflow: hidden;padding: 0;position: absolute;width: 1px;}#sk-container-id-2 div.sk-estimator {font-family: monospace;background-color: #f0f8ff;border: 1px dotted black;border-radius: 0.25em;box-sizing: border-box;margin-bottom: 0.5em;}#sk-container-id-2 div.sk-estimator:hover {background-color: #d4ebff;}#sk-container-id-2 div.sk-parallel-item::after {content: \"\";width: 100%;border-bottom: 1px solid gray;flex-grow: 1;}#sk-container-id-2 div.sk-label:hover label.sk-toggleable__label {background-color: #d4ebff;}#sk-container-id-2 div.sk-serial::before {content: \"\";position: absolute;border-left: 1px solid gray;box-sizing: border-box;top: 0;bottom: 0;left: 50%;z-index: 0;}#sk-container-id-2 div.sk-serial {display: flex;flex-direction: column;align-items: center;background-color: white;padding-right: 0.2em;padding-left: 0.2em;position: relative;}#sk-container-id-2 div.sk-item {position: relative;z-index: 1;}#sk-container-id-2 div.sk-parallel {display: flex;align-items: stretch;justify-content: center;background-color: white;position: relative;}#sk-container-id-2 div.sk-item::before, #sk-container-id-2 div.sk-parallel-item::before {content: \"\";position: absolute;border-left: 1px solid gray;box-sizing: border-box;top: 0;bottom: 0;left: 50%;z-index: -1;}#sk-container-id-2 div.sk-parallel-item {display: flex;flex-direction: column;z-index: 1;position: relative;background-color: white;}#sk-container-id-2 div.sk-parallel-item:first-child::after {align-self: flex-end;width: 50%;}#sk-container-id-2 div.sk-parallel-item:last-child::after {align-self: flex-start;width: 50%;}#sk-container-id-2 div.sk-parallel-item:only-child::after {width: 0;}#sk-container-id-2 div.sk-dashed-wrapped {border: 1px dashed gray;margin: 0 0.4em 0.5em 0.4em;box-sizing: border-box;padding-bottom: 0.4em;background-color: white;}#sk-container-id-2 div.sk-label label {font-family: monospace;font-weight: bold;display: inline-block;line-height: 1.2em;}#sk-container-id-2 div.sk-label-container {text-align: center;}#sk-container-id-2 div.sk-container {/* jupyter's `normalize.less` sets `[hidden] { display: none; }` but bootstrap.min.css set `[hidden] { display: none !important; }` so we also need the `!important` here to be able to override the default hidden behavior on the sphinx rendered scikit-learn.org. See: https://github.com/scikit-learn/scikit-learn/issues/21755 */display: inline-block !important;position: relative;}#sk-container-id-2 div.sk-text-repr-fallback {display: none;}</style><div id=\"sk-container-id-2\" class=\"sk-top-container\"><div class=\"sk-text-repr-fallback\"><pre>LogisticRegression(max_iter=1000)</pre><b>In a Jupyter environment, please rerun this cell to show the HTML representation or trust the notebook. <br />On GitHub, the HTML representation is unable to render, please try loading this page with nbviewer.org.</b></div><div class=\"sk-container\" hidden><div class=\"sk-item\"><div class=\"sk-estimator sk-toggleable\"><input class=\"sk-toggleable__control sk-hidden--visually\" id=\"sk-estimator-id-2\" type=\"checkbox\" checked><label for=\"sk-estimator-id-2\" class=\"sk-toggleable__label sk-toggleable__label-arrow\">LogisticRegression</label><div class=\"sk-toggleable__content\"><pre>LogisticRegression(max_iter=1000)</pre></div></div></div></div></div>"
            ]
          },
          "metadata": {},
          "execution_count": 51
        }
      ]
    },
    {
      "cell_type": "code",
      "source": [
        "classifier.coef_.round(2)[0][0]"
      ],
      "metadata": {
        "colab": {
          "base_uri": "https://localhost:8080/"
        },
        "id": "093hdu5C7QaE",
        "outputId": "535de06c-aae9-4298-93b6-9ceb9801586c"
      },
      "execution_count": null,
      "outputs": [
        {
          "output_type": "execute_result",
          "data": {
            "text/plain": [
              "-0.22"
            ]
          },
          "metadata": {},
          "execution_count": 59
        }
      ]
    },
    {
      "cell_type": "code",
      "source": [
        "classifier.intercept_"
      ],
      "metadata": {
        "colab": {
          "base_uri": "https://localhost:8080/"
        },
        "id": "cTHGn09K7ETC",
        "outputId": "f4dc4d54-3aa6-4011-bdad-5905f95c12d1"
      },
      "execution_count": null,
      "outputs": [
        {
          "output_type": "execute_result",
          "data": {
            "text/plain": [
              "array([0.31350624])"
            ]
          },
          "metadata": {},
          "execution_count": 56
        }
      ]
    },
    {
      "cell_type": "code",
      "source": [
        "#MODEL EVALUATION\n",
        "score=classifier.score(X_test,y_test)\n",
        "print(\"Accuracy:\",score)"
      ],
      "metadata": {
        "colab": {
          "base_uri": "https://localhost:8080/"
        },
        "id": "T2UcrHRm3Y7W",
        "outputId": "076e3387-1674-4868-a736-99b0f0765f05"
      },
      "execution_count": null,
      "outputs": [
        {
          "output_type": "stream",
          "name": "stdout",
          "text": [
            "Accuracy: 0.800271875\n"
          ]
        }
      ]
    },
    {
      "cell_type": "code",
      "source": [
        "#TESTING\n",
        "tweet='my whole body feels itchy and like its on fire'\n",
        "vectTweet=vectorizer.transform(np.array([tweet]))\n",
        "prediction=classifier.predict(vectTweet)\n",
        "print('Tweet is','positive'if prediction[0]==4 else 'negative')"
      ],
      "metadata": {
        "colab": {
          "base_uri": "https://localhost:8080/"
        },
        "id": "l_MEuVK09-Wi",
        "outputId": "44d6af57-563f-4a80-a20b-e5a6c266a5bc"
      },
      "execution_count": null,
      "outputs": [
        {
          "output_type": "stream",
          "name": "stdout",
          "text": [
            "Tweet is negative\n"
          ]
        }
      ]
    },
    {
      "cell_type": "code",
      "source": [
        "tweetlist=[\"spring break in plain city... it's snowing\",\"Mondays are the worst...\"]\n",
        "vectTweet=vectorizer.transform(np.array(tweetlist))\n",
        "\n",
        "prediction=classifier.predict(vectTweet)\n",
        "for enum,i in enumerate(tweetlist):\n",
        "  print(i,'----> This tweet is','positive' if prediction[enum]==4 else 'negative')"
      ],
      "metadata": {
        "colab": {
          "base_uri": "https://localhost:8080/"
        },
        "id": "ejcWRhCzCz16",
        "outputId": "c791898d-67d4-4c8e-b98b-1ee450484a19"
      },
      "execution_count": null,
      "outputs": [
        {
          "output_type": "stream",
          "name": "stdout",
          "text": [
            "spring break in plain city... it's snowing ----> This tweet is negative\n",
            "Mondays are the worst... ----> This tweet is negative\n"
          ]
        }
      ]
    },
    {
      "cell_type": "code",
      "source": [
        "#PREDICTIONS\n",
        "y_pred = classifier.predict(X_test)\n",
        "\n",
        "cm = confusion_matrix(y_test, y_pred)\n",
        "sns.heatmap(cm, annot=True, cmap='Blues', fmt='d')\n",
        "plt.xlabel('Predicted')\n",
        "plt.ylabel('True')\n",
        "plt.title('Confusion Matrix')\n",
        "plt.show()"
      ],
      "metadata": {
        "colab": {
          "base_uri": "https://localhost:8080/",
          "height": 472
        },
        "id": "bVFlAHQZ8fbP",
        "outputId": "47341edd-63da-4691-834a-98b149b4ce5e"
      },
      "execution_count": null,
      "outputs": [
        {
          "output_type": "display_data",
          "data": {
            "text/plain": [
              "<Figure size 640x480 with 2 Axes>"
            ],
            "image/png": "[encoded data removed]"
          },
          "metadata": {}
        }
      ]
    }
  ]
}
